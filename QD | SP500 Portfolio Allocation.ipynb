{
  "cells": [
    {
      "cell_type": "markdown",
      "metadata": {
        "id": "view-in-github",
        "colab_type": "text"
      },
      "source": [
        "<a href=\"https://colab.research.google.com/github/alexandreib/QuantDesign/blob/main/QD%20%7C%20SP500%20Portfolio%20Allocation.ipynb\" target=\"_parent\"><img src=\"https://colab.research.google.com/assets/colab-badge.svg\" alt=\"Open In Colab\"/></a>"
      ]
    },
    {
      "cell_type": "markdown",
      "metadata": {
        "id": "SKQ4bH7qMGrA"
      },
      "source": [
        "#**Sharpe Ratio Optimization on returns, on S&P 500 Past Returns**\n",
        "\n"
      ]
    },
    {
      "cell_type": "markdown",
      "source": [
        "## Imports"
      ],
      "metadata": {
        "id": "6-kh0EMy-ZId"
      }
    },
    {
      "cell_type": "code",
      "source": [
        "import pandas as pd\n",
        "import numpy as np\n",
        "import yfinance as yf\n",
        "import seaborn as sns\n",
        "import scipy as sp\n",
        "import cvxpy as cp"
      ],
      "metadata": {
        "id": "m0-7ZhGc9ERF"
      },
      "execution_count": 174,
      "outputs": []
    },
    {
      "cell_type": "markdown",
      "source": [
        "# Creating the DataFrame"
      ],
      "metadata": {
        "id": "OkjUw457cLUv"
      }
    },
    {
      "cell_type": "markdown",
      "source": [
        "## Scapping SP500 Constituents from Wikipedia"
      ],
      "metadata": {
        "id": "gWKVZAc5-bFV"
      }
    },
    {
      "cell_type": "code",
      "source": [
        "# Download the S&P 500 constituents from Wikipedia\n",
        "try:\n",
        "    table=pd.read_html('https://en.wikipedia.org/wiki/List_of_S%26P_500_companies')\n",
        "    df = table[0]\n",
        "    tickers = df['Symbol'].tolist()\n",
        "except Exception as e:\n",
        "    print(f\"Error downloading S&P 500 tickers: {e}\")\n",
        "    tickers = [] # Handle the error gracefully, e.g., provide a default list\n",
        "\n",
        "# Print or use the tickers list\n",
        "print(tickers)"
      ],
      "metadata": {
        "colab": {
          "base_uri": "https://localhost:8080/"
        },
        "id": "R9J52CMM8XZA",
        "outputId": "b794dd11-7dce-4408-e36a-f3ecdd8a72fb"
      },
      "execution_count": 175,
      "outputs": [
        {
          "output_type": "stream",
          "name": "stdout",
          "text": [
            "['MMM', 'AOS', 'ABT', 'ABBV', 'ACN', 'ADBE', 'AMD', 'AES', 'AFL', 'A', 'APD', 'ABNB', 'AKAM', 'ALB', 'ARE', 'ALGN', 'ALLE', 'LNT', 'ALL', 'GOOGL', 'GOOG', 'MO', 'AMZN', 'AMCR', 'AMTM', 'AEE', 'AEP', 'AXP', 'AIG', 'AMT', 'AWK', 'AMP', 'AME', 'AMGN', 'APH', 'ADI', 'ANSS', 'AON', 'APA', 'AAPL', 'AMAT', 'APTV', 'ACGL', 'ADM', 'ANET', 'AJG', 'AIZ', 'T', 'ATO', 'ADSK', 'ADP', 'AZO', 'AVB', 'AVY', 'AXON', 'BKR', 'BALL', 'BAC', 'BAX', 'BDX', 'BRK.B', 'BBY', 'TECH', 'BIIB', 'BLK', 'BX', 'BK', 'BA', 'BKNG', 'BWA', 'BSX', 'BMY', 'AVGO', 'BR', 'BRO', 'BF.B', 'BLDR', 'BG', 'BXP', 'CHRW', 'CDNS', 'CZR', 'CPT', 'CPB', 'COF', 'CAH', 'KMX', 'CCL', 'CARR', 'CTLT', 'CAT', 'CBOE', 'CBRE', 'CDW', 'CE', 'COR', 'CNC', 'CNP', 'CF', 'CRL', 'SCHW', 'CHTR', 'CVX', 'CMG', 'CB', 'CHD', 'CI', 'CINF', 'CTAS', 'CSCO', 'C', 'CFG', 'CLX', 'CME', 'CMS', 'KO', 'CTSH', 'CL', 'CMCSA', 'CAG', 'COP', 'ED', 'STZ', 'CEG', 'COO', 'CPRT', 'GLW', 'CPAY', 'CTVA', 'CSGP', 'COST', 'CTRA', 'CRWD', 'CCI', 'CSX', 'CMI', 'CVS', 'DHR', 'DRI', 'DVA', 'DAY', 'DECK', 'DE', 'DELL', 'DAL', 'DVN', 'DXCM', 'FANG', 'DLR', 'DFS', 'DG', 'DLTR', 'D', 'DPZ', 'DOV', 'DOW', 'DHI', 'DTE', 'DUK', 'DD', 'EMN', 'ETN', 'EBAY', 'ECL', 'EIX', 'EW', 'EA', 'ELV', 'EMR', 'ENPH', 'ETR', 'EOG', 'EPAM', 'EQT', 'EFX', 'EQIX', 'EQR', 'ERIE', 'ESS', 'EL', 'EG', 'EVRG', 'ES', 'EXC', 'EXPE', 'EXPD', 'EXR', 'XOM', 'FFIV', 'FDS', 'FICO', 'FAST', 'FRT', 'FDX', 'FIS', 'FITB', 'FSLR', 'FE', 'FI', 'FMC', 'F', 'FTNT', 'FTV', 'FOXA', 'FOX', 'BEN', 'FCX', 'GRMN', 'IT', 'GE', 'GEHC', 'GEV', 'GEN', 'GNRC', 'GD', 'GIS', 'GM', 'GPC', 'GILD', 'GPN', 'GL', 'GDDY', 'GS', 'HAL', 'HIG', 'HAS', 'HCA', 'DOC', 'HSIC', 'HSY', 'HES', 'HPE', 'HLT', 'HOLX', 'HD', 'HON', 'HRL', 'HST', 'HWM', 'HPQ', 'HUBB', 'HUM', 'HBAN', 'HII', 'IBM', 'IEX', 'IDXX', 'ITW', 'INCY', 'IR', 'PODD', 'INTC', 'ICE', 'IFF', 'IP', 'IPG', 'INTU', 'ISRG', 'IVZ', 'INVH', 'IQV', 'IRM', 'JBHT', 'JBL', 'JKHY', 'J', 'JNJ', 'JCI', 'JPM', 'JNPR', 'K', 'KVUE', 'KDP', 'KEY', 'KEYS', 'KMB', 'KIM', 'KMI', 'KKR', 'KLAC', 'KHC', 'KR', 'LHX', 'LH', 'LRCX', 'LW', 'LVS', 'LDOS', 'LEN', 'LLY', 'LIN', 'LYV', 'LKQ', 'LMT', 'L', 'LOW', 'LULU', 'LYB', 'MTB', 'MRO', 'MPC', 'MKTX', 'MAR', 'MMC', 'MLM', 'MAS', 'MA', 'MTCH', 'MKC', 'MCD', 'MCK', 'MDT', 'MRK', 'META', 'MET', 'MTD', 'MGM', 'MCHP', 'MU', 'MSFT', 'MAA', 'MRNA', 'MHK', 'MOH', 'TAP', 'MDLZ', 'MPWR', 'MNST', 'MCO', 'MS', 'MOS', 'MSI', 'MSCI', 'NDAQ', 'NTAP', 'NFLX', 'NEM', 'NWSA', 'NWS', 'NEE', 'NKE', 'NI', 'NDSN', 'NSC', 'NTRS', 'NOC', 'NCLH', 'NRG', 'NUE', 'NVDA', 'NVR', 'NXPI', 'ORLY', 'OXY', 'ODFL', 'OMC', 'ON', 'OKE', 'ORCL', 'OTIS', 'PCAR', 'PKG', 'PLTR', 'PANW', 'PARA', 'PH', 'PAYX', 'PAYC', 'PYPL', 'PNR', 'PEP', 'PFE', 'PCG', 'PM', 'PSX', 'PNW', 'PNC', 'POOL', 'PPG', 'PPL', 'PFG', 'PG', 'PGR', 'PLD', 'PRU', 'PEG', 'PTC', 'PSA', 'PHM', 'QRVO', 'PWR', 'QCOM', 'DGX', 'RL', 'RJF', 'RTX', 'O', 'REG', 'REGN', 'RF', 'RSG', 'RMD', 'RVTY', 'ROK', 'ROL', 'ROP', 'ROST', 'RCL', 'SPGI', 'CRM', 'SBAC', 'SLB', 'STX', 'SRE', 'NOW', 'SHW', 'SPG', 'SWKS', 'SJM', 'SW', 'SNA', 'SOLV', 'SO', 'LUV', 'SWK', 'SBUX', 'STT', 'STLD', 'STE', 'SYK', 'SMCI', 'SYF', 'SNPS', 'SYY', 'TMUS', 'TROW', 'TTWO', 'TPR', 'TRGP', 'TGT', 'TEL', 'TDY', 'TFX', 'TER', 'TSLA', 'TXN', 'TXT', 'TMO', 'TJX', 'TSCO', 'TT', 'TDG', 'TRV', 'TRMB', 'TFC', 'TYL', 'TSN', 'USB', 'UBER', 'UDR', 'ULTA', 'UNP', 'UAL', 'UPS', 'URI', 'UNH', 'UHS', 'VLO', 'VTR', 'VLTO', 'VRSN', 'VRSK', 'VZ', 'VRTX', 'VTRS', 'VICI', 'V', 'VST', 'VMC', 'WRB', 'GWW', 'WAB', 'WBA', 'WMT', 'DIS', 'WBD', 'WM', 'WAT', 'WEC', 'WFC', 'WELL', 'WST', 'WDC', 'WY', 'WMB', 'WTW', 'WYNN', 'XEL', 'XYL', 'YUM', 'ZBRA', 'ZBH', 'ZTS']\n"
          ]
        }
      ]
    },
    {
      "cell_type": "markdown",
      "source": [
        "## Download the last 10 years of price"
      ],
      "metadata": {
        "id": "5IFwPZQOb3pw"
      }
    },
    {
      "cell_type": "code",
      "source": [
        "# Define the start and end dates for the data\n",
        "end_date = pd.Timestamp.today()\n",
        "start_date = end_date - pd.Timedelta(days=365 * 10)\n",
        "\n",
        "# Download the data\n",
        "df = yf.download(tickers, start=start_date, end=end_date)\n",
        "\n",
        "# Print the data (optional)\n",
        "df.head()"
      ],
      "metadata": {
        "colab": {
          "base_uri": "https://localhost:8080/",
          "height": 477
        },
        "id": "IpOPEOj-8QNv",
        "outputId": "1ca25790-6679-40c8-f166-d7e0d7c90fea"
      },
      "execution_count": 176,
      "outputs": [
        {
          "output_type": "stream",
          "name": "stderr",
          "text": [
            "[*********************100%***********************]  503 of 503 completed\n",
            "ERROR:yfinance:\n",
            "2 Failed downloads:\n",
            "ERROR:yfinance:['BF.B']: YFPricesMissingError('$%ticker%: possibly delisted; no price data found  (1d 2014-10-31 06:25:58.488230 -> 2024-10-28 06:25:58.488230)')\n",
            "ERROR:yfinance:['BRK.B']: YFTzMissingError('$%ticker%: possibly delisted; no timezone found')\n"
          ]
        },
        {
          "output_type": "execute_result",
          "data": {
            "text/plain": [
              "Price                      Adj Close                                        \\\n",
              "Ticker                             A       AAPL       ABBV ABNB        ABT   \n",
              "Date                                                                         \n",
              "2014-10-31 00:00:00+00:00  36.393883  23.973499  41.956596  NaN  36.026070   \n",
              "2014-11-03 00:00:00+00:00  37.588352  24.284260  41.817741  NaN  35.778126   \n",
              "2014-11-04 00:00:00+00:00  36.980907  24.106682  41.427673  NaN  36.042576   \n",
              "2014-11-05 00:00:00+00:00  36.934887  24.164394  41.348316  NaN  36.083900   \n",
              "2014-11-06 00:00:00+00:00  38.076153  24.233500  41.460716  NaN  36.108723   \n",
              "\n",
              "Price                                                                  \\\n",
              "Ticker                          ACGL        ACN       ADBE        ADI   \n",
              "Date                                                                    \n",
              "2014-10-31 00:00:00+00:00  18.773333  68.768227  70.120003  40.179726   \n",
              "2014-11-03 00:00:00+00:00  18.799999  68.641060  69.910004  40.260689   \n",
              "2014-11-04 00:00:00+00:00  18.910000  68.793633  71.070000  40.042061   \n",
              "2014-11-05 00:00:00+00:00  18.906668  69.921150  71.370003  40.511715   \n",
              "2014-11-06 00:00:00+00:00  19.026667  70.565430  72.099998  40.665562   \n",
              "\n",
              "Price                                 ...  Volume                             \\\n",
              "Ticker                           ADM  ...     WTW       WY     WYNN      XEL   \n",
              "Date                                  ...                                      \n",
              "2014-10-31 00:00:00+00:00  35.525311  ...  479916  4841500  1527800  3632900   \n",
              "2014-11-03 00:00:00+00:00  35.714279  ...  504566  3013800  1222900  3243800   \n",
              "2014-11-04 00:00:00+00:00  37.445210  ...  440467  2763400  2088000  3709800   \n",
              "2014-11-05 00:00:00+00:00  38.027210  ...  309965  3056200  2938200  4556000   \n",
              "2014-11-06 00:00:00+00:00  37.770229  ...  398564  2924200  3081700  8182500   \n",
              "\n",
              "Price                                                                    \\\n",
              "Ticker                          XOM      XYL      YUM      ZBH     ZBRA   \n",
              "Date                                                                      \n",
              "2014-10-31 00:00:00+00:00  17493700  1161000  8379384  1530786   562800   \n",
              "2014-11-03 00:00:00+00:00  13410000   781100  4277047   813082   833000   \n",
              "2014-11-04 00:00:00+00:00  13498500   693800  3248402  1050703  1544000   \n",
              "2014-11-05 00:00:00+00:00  12480000   823700  2750842  1231983  1475600   \n",
              "2014-11-06 00:00:00+00:00  14731400  1218200  3727741   764054   816600   \n",
              "\n",
              "Price                                \n",
              "Ticker                          ZTS  \n",
              "Date                                 \n",
              "2014-10-31 00:00:00+00:00   2589500  \n",
              "2014-11-03 00:00:00+00:00   4071300  \n",
              "2014-11-04 00:00:00+00:00   9723700  \n",
              "2014-11-05 00:00:00+00:00  11878900  \n",
              "2014-11-06 00:00:00+00:00   4457100  \n",
              "\n",
              "[5 rows x 3018 columns]"
            ],
            "text/html": [
              "\n",
              "  <div id=\"df-6e513d15-1a01-4ffb-bdaa-c1c5292469dc\" class=\"colab-df-container\">\n",
              "    <div>\n",
              "<style scoped>\n",
              "    .dataframe tbody tr th:only-of-type {\n",
              "        vertical-align: middle;\n",
              "    }\n",
              "\n",
              "    .dataframe tbody tr th {\n",
              "        vertical-align: top;\n",
              "    }\n",
              "\n",
              "    .dataframe thead tr th {\n",
              "        text-align: left;\n",
              "    }\n",
              "\n",
              "    .dataframe thead tr:last-of-type th {\n",
              "        text-align: right;\n",
              "    }\n",
              "</style>\n",
              "<table border=\"1\" class=\"dataframe\">\n",
              "  <thead>\n",
              "    <tr>\n",
              "      <th>Price</th>\n",
              "      <th colspan=\"10\" halign=\"left\">Adj Close</th>\n",
              "      <th>...</th>\n",
              "      <th colspan=\"10\" halign=\"left\">Volume</th>\n",
              "    </tr>\n",
              "    <tr>\n",
              "      <th>Ticker</th>\n",
              "      <th>A</th>\n",
              "      <th>AAPL</th>\n",
              "      <th>ABBV</th>\n",
              "      <th>ABNB</th>\n",
              "      <th>ABT</th>\n",
              "      <th>ACGL</th>\n",
              "      <th>ACN</th>\n",
              "      <th>ADBE</th>\n",
              "      <th>ADI</th>\n",
              "      <th>ADM</th>\n",
              "      <th>...</th>\n",
              "      <th>WTW</th>\n",
              "      <th>WY</th>\n",
              "      <th>WYNN</th>\n",
              "      <th>XEL</th>\n",
              "      <th>XOM</th>\n",
              "      <th>XYL</th>\n",
              "      <th>YUM</th>\n",
              "      <th>ZBH</th>\n",
              "      <th>ZBRA</th>\n",
              "      <th>ZTS</th>\n",
              "    </tr>\n",
              "    <tr>\n",
              "      <th>Date</th>\n",
              "      <th></th>\n",
              "      <th></th>\n",
              "      <th></th>\n",
              "      <th></th>\n",
              "      <th></th>\n",
              "      <th></th>\n",
              "      <th></th>\n",
              "      <th></th>\n",
              "      <th></th>\n",
              "      <th></th>\n",
              "      <th></th>\n",
              "      <th></th>\n",
              "      <th></th>\n",
              "      <th></th>\n",
              "      <th></th>\n",
              "      <th></th>\n",
              "      <th></th>\n",
              "      <th></th>\n",
              "      <th></th>\n",
              "      <th></th>\n",
              "      <th></th>\n",
              "    </tr>\n",
              "  </thead>\n",
              "  <tbody>\n",
              "    <tr>\n",
              "      <th>2014-10-31 00:00:00+00:00</th>\n",
              "      <td>36.393883</td>\n",
              "      <td>23.973499</td>\n",
              "      <td>41.956596</td>\n",
              "      <td>NaN</td>\n",
              "      <td>36.026070</td>\n",
              "      <td>18.773333</td>\n",
              "      <td>68.768227</td>\n",
              "      <td>70.120003</td>\n",
              "      <td>40.179726</td>\n",
              "      <td>35.525311</td>\n",
              "      <td>...</td>\n",
              "      <td>479916</td>\n",
              "      <td>4841500</td>\n",
              "      <td>1527800</td>\n",
              "      <td>3632900</td>\n",
              "      <td>17493700</td>\n",
              "      <td>1161000</td>\n",
              "      <td>8379384</td>\n",
              "      <td>1530786</td>\n",
              "      <td>562800</td>\n",
              "      <td>2589500</td>\n",
              "    </tr>\n",
              "    <tr>\n",
              "      <th>2014-11-03 00:00:00+00:00</th>\n",
              "      <td>37.588352</td>\n",
              "      <td>24.284260</td>\n",
              "      <td>41.817741</td>\n",
              "      <td>NaN</td>\n",
              "      <td>35.778126</td>\n",
              "      <td>18.799999</td>\n",
              "      <td>68.641060</td>\n",
              "      <td>69.910004</td>\n",
              "      <td>40.260689</td>\n",
              "      <td>35.714279</td>\n",
              "      <td>...</td>\n",
              "      <td>504566</td>\n",
              "      <td>3013800</td>\n",
              "      <td>1222900</td>\n",
              "      <td>3243800</td>\n",
              "      <td>13410000</td>\n",
              "      <td>781100</td>\n",
              "      <td>4277047</td>\n",
              "      <td>813082</td>\n",
              "      <td>833000</td>\n",
              "      <td>4071300</td>\n",
              "    </tr>\n",
              "    <tr>\n",
              "      <th>2014-11-04 00:00:00+00:00</th>\n",
              "      <td>36.980907</td>\n",
              "      <td>24.106682</td>\n",
              "      <td>41.427673</td>\n",
              "      <td>NaN</td>\n",
              "      <td>36.042576</td>\n",
              "      <td>18.910000</td>\n",
              "      <td>68.793633</td>\n",
              "      <td>71.070000</td>\n",
              "      <td>40.042061</td>\n",
              "      <td>37.445210</td>\n",
              "      <td>...</td>\n",
              "      <td>440467</td>\n",
              "      <td>2763400</td>\n",
              "      <td>2088000</td>\n",
              "      <td>3709800</td>\n",
              "      <td>13498500</td>\n",
              "      <td>693800</td>\n",
              "      <td>3248402</td>\n",
              "      <td>1050703</td>\n",
              "      <td>1544000</td>\n",
              "      <td>9723700</td>\n",
              "    </tr>\n",
              "    <tr>\n",
              "      <th>2014-11-05 00:00:00+00:00</th>\n",
              "      <td>36.934887</td>\n",
              "      <td>24.164394</td>\n",
              "      <td>41.348316</td>\n",
              "      <td>NaN</td>\n",
              "      <td>36.083900</td>\n",
              "      <td>18.906668</td>\n",
              "      <td>69.921150</td>\n",
              "      <td>71.370003</td>\n",
              "      <td>40.511715</td>\n",
              "      <td>38.027210</td>\n",
              "      <td>...</td>\n",
              "      <td>309965</td>\n",
              "      <td>3056200</td>\n",
              "      <td>2938200</td>\n",
              "      <td>4556000</td>\n",
              "      <td>12480000</td>\n",
              "      <td>823700</td>\n",
              "      <td>2750842</td>\n",
              "      <td>1231983</td>\n",
              "      <td>1475600</td>\n",
              "      <td>11878900</td>\n",
              "    </tr>\n",
              "    <tr>\n",
              "      <th>2014-11-06 00:00:00+00:00</th>\n",
              "      <td>38.076153</td>\n",
              "      <td>24.233500</td>\n",
              "      <td>41.460716</td>\n",
              "      <td>NaN</td>\n",
              "      <td>36.108723</td>\n",
              "      <td>19.026667</td>\n",
              "      <td>70.565430</td>\n",
              "      <td>72.099998</td>\n",
              "      <td>40.665562</td>\n",
              "      <td>37.770229</td>\n",
              "      <td>...</td>\n",
              "      <td>398564</td>\n",
              "      <td>2924200</td>\n",
              "      <td>3081700</td>\n",
              "      <td>8182500</td>\n",
              "      <td>14731400</td>\n",
              "      <td>1218200</td>\n",
              "      <td>3727741</td>\n",
              "      <td>764054</td>\n",
              "      <td>816600</td>\n",
              "      <td>4457100</td>\n",
              "    </tr>\n",
              "  </tbody>\n",
              "</table>\n",
              "<p>5 rows × 3018 columns</p>\n",
              "</div>\n",
              "    <div class=\"colab-df-buttons\">\n",
              "\n",
              "  <div class=\"colab-df-container\">\n",
              "    <button class=\"colab-df-convert\" onclick=\"convertToInteractive('df-6e513d15-1a01-4ffb-bdaa-c1c5292469dc')\"\n",
              "            title=\"Convert this dataframe to an interactive table.\"\n",
              "            style=\"display:none;\">\n",
              "\n",
              "  <svg xmlns=\"http://www.w3.org/2000/svg\" height=\"24px\" viewBox=\"0 -960 960 960\">\n",
              "    <path d=\"M120-120v-720h720v720H120Zm60-500h600v-160H180v160Zm220 220h160v-160H400v160Zm0 220h160v-160H400v160ZM180-400h160v-160H180v160Zm440 0h160v-160H620v160ZM180-180h160v-160H180v160Zm440 0h160v-160H620v160Z\"/>\n",
              "  </svg>\n",
              "    </button>\n",
              "\n",
              "  <style>\n",
              "    .colab-df-container {\n",
              "      display:flex;\n",
              "      gap: 12px;\n",
              "    }\n",
              "\n",
              "    .colab-df-convert {\n",
              "      background-color: #E8F0FE;\n",
              "      border: none;\n",
              "      border-radius: 50%;\n",
              "      cursor: pointer;\n",
              "      display: none;\n",
              "      fill: #1967D2;\n",
              "      height: 32px;\n",
              "      padding: 0 0 0 0;\n",
              "      width: 32px;\n",
              "    }\n",
              "\n",
              "    .colab-df-convert:hover {\n",
              "      background-color: #E2EBFA;\n",
              "      box-shadow: 0px 1px 2px rgba(60, 64, 67, 0.3), 0px 1px 3px 1px rgba(60, 64, 67, 0.15);\n",
              "      fill: #174EA6;\n",
              "    }\n",
              "\n",
              "    .colab-df-buttons div {\n",
              "      margin-bottom: 4px;\n",
              "    }\n",
              "\n",
              "    [theme=dark] .colab-df-convert {\n",
              "      background-color: #3B4455;\n",
              "      fill: #D2E3FC;\n",
              "    }\n",
              "\n",
              "    [theme=dark] .colab-df-convert:hover {\n",
              "      background-color: #434B5C;\n",
              "      box-shadow: 0px 1px 3px 1px rgba(0, 0, 0, 0.15);\n",
              "      filter: drop-shadow(0px 1px 2px rgba(0, 0, 0, 0.3));\n",
              "      fill: #FFFFFF;\n",
              "    }\n",
              "  </style>\n",
              "\n",
              "    <script>\n",
              "      const buttonEl =\n",
              "        document.querySelector('#df-6e513d15-1a01-4ffb-bdaa-c1c5292469dc button.colab-df-convert');\n",
              "      buttonEl.style.display =\n",
              "        google.colab.kernel.accessAllowed ? 'block' : 'none';\n",
              "\n",
              "      async function convertToInteractive(key) {\n",
              "        const element = document.querySelector('#df-6e513d15-1a01-4ffb-bdaa-c1c5292469dc');\n",
              "        const dataTable =\n",
              "          await google.colab.kernel.invokeFunction('convertToInteractive',\n",
              "                                                    [key], {});\n",
              "        if (!dataTable) return;\n",
              "\n",
              "        const docLinkHtml = 'Like what you see? Visit the ' +\n",
              "          '<a target=\"_blank\" href=https://colab.research.google.com/notebooks/data_table.ipynb>data table notebook</a>'\n",
              "          + ' to learn more about interactive tables.';\n",
              "        element.innerHTML = '';\n",
              "        dataTable['output_type'] = 'display_data';\n",
              "        await google.colab.output.renderOutput(dataTable, element);\n",
              "        const docLink = document.createElement('div');\n",
              "        docLink.innerHTML = docLinkHtml;\n",
              "        element.appendChild(docLink);\n",
              "      }\n",
              "    </script>\n",
              "  </div>\n",
              "\n",
              "\n",
              "<div id=\"df-5fa25ded-80b5-4909-be1b-d79ce353cfa8\">\n",
              "  <button class=\"colab-df-quickchart\" onclick=\"quickchart('df-5fa25ded-80b5-4909-be1b-d79ce353cfa8')\"\n",
              "            title=\"Suggest charts\"\n",
              "            style=\"display:none;\">\n",
              "\n",
              "<svg xmlns=\"http://www.w3.org/2000/svg\" height=\"24px\"viewBox=\"0 0 24 24\"\n",
              "     width=\"24px\">\n",
              "    <g>\n",
              "        <path d=\"M19 3H5c-1.1 0-2 .9-2 2v14c0 1.1.9 2 2 2h14c1.1 0 2-.9 2-2V5c0-1.1-.9-2-2-2zM9 17H7v-7h2v7zm4 0h-2V7h2v10zm4 0h-2v-4h2v4z\"/>\n",
              "    </g>\n",
              "</svg>\n",
              "  </button>\n",
              "\n",
              "<style>\n",
              "  .colab-df-quickchart {\n",
              "      --bg-color: #E8F0FE;\n",
              "      --fill-color: #1967D2;\n",
              "      --hover-bg-color: #E2EBFA;\n",
              "      --hover-fill-color: #174EA6;\n",
              "      --disabled-fill-color: #AAA;\n",
              "      --disabled-bg-color: #DDD;\n",
              "  }\n",
              "\n",
              "  [theme=dark] .colab-df-quickchart {\n",
              "      --bg-color: #3B4455;\n",
              "      --fill-color: #D2E3FC;\n",
              "      --hover-bg-color: #434B5C;\n",
              "      --hover-fill-color: #FFFFFF;\n",
              "      --disabled-bg-color: #3B4455;\n",
              "      --disabled-fill-color: #666;\n",
              "  }\n",
              "\n",
              "  .colab-df-quickchart {\n",
              "    background-color: var(--bg-color);\n",
              "    border: none;\n",
              "    border-radius: 50%;\n",
              "    cursor: pointer;\n",
              "    display: none;\n",
              "    fill: var(--fill-color);\n",
              "    height: 32px;\n",
              "    padding: 0;\n",
              "    width: 32px;\n",
              "  }\n",
              "\n",
              "  .colab-df-quickchart:hover {\n",
              "    background-color: var(--hover-bg-color);\n",
              "    box-shadow: 0 1px 2px rgba(60, 64, 67, 0.3), 0 1px 3px 1px rgba(60, 64, 67, 0.15);\n",
              "    fill: var(--button-hover-fill-color);\n",
              "  }\n",
              "\n",
              "  .colab-df-quickchart-complete:disabled,\n",
              "  .colab-df-quickchart-complete:disabled:hover {\n",
              "    background-color: var(--disabled-bg-color);\n",
              "    fill: var(--disabled-fill-color);\n",
              "    box-shadow: none;\n",
              "  }\n",
              "\n",
              "  .colab-df-spinner {\n",
              "    border: 2px solid var(--fill-color);\n",
              "    border-color: transparent;\n",
              "    border-bottom-color: var(--fill-color);\n",
              "    animation:\n",
              "      spin 1s steps(1) infinite;\n",
              "  }\n",
              "\n",
              "  @keyframes spin {\n",
              "    0% {\n",
              "      border-color: transparent;\n",
              "      border-bottom-color: var(--fill-color);\n",
              "      border-left-color: var(--fill-color);\n",
              "    }\n",
              "    20% {\n",
              "      border-color: transparent;\n",
              "      border-left-color: var(--fill-color);\n",
              "      border-top-color: var(--fill-color);\n",
              "    }\n",
              "    30% {\n",
              "      border-color: transparent;\n",
              "      border-left-color: var(--fill-color);\n",
              "      border-top-color: var(--fill-color);\n",
              "      border-right-color: var(--fill-color);\n",
              "    }\n",
              "    40% {\n",
              "      border-color: transparent;\n",
              "      border-right-color: var(--fill-color);\n",
              "      border-top-color: var(--fill-color);\n",
              "    }\n",
              "    60% {\n",
              "      border-color: transparent;\n",
              "      border-right-color: var(--fill-color);\n",
              "    }\n",
              "    80% {\n",
              "      border-color: transparent;\n",
              "      border-right-color: var(--fill-color);\n",
              "      border-bottom-color: var(--fill-color);\n",
              "    }\n",
              "    90% {\n",
              "      border-color: transparent;\n",
              "      border-bottom-color: var(--fill-color);\n",
              "    }\n",
              "  }\n",
              "</style>\n",
              "\n",
              "  <script>\n",
              "    async function quickchart(key) {\n",
              "      const quickchartButtonEl =\n",
              "        document.querySelector('#' + key + ' button');\n",
              "      quickchartButtonEl.disabled = true;  // To prevent multiple clicks.\n",
              "      quickchartButtonEl.classList.add('colab-df-spinner');\n",
              "      try {\n",
              "        const charts = await google.colab.kernel.invokeFunction(\n",
              "            'suggestCharts', [key], {});\n",
              "      } catch (error) {\n",
              "        console.error('Error during call to suggestCharts:', error);\n",
              "      }\n",
              "      quickchartButtonEl.classList.remove('colab-df-spinner');\n",
              "      quickchartButtonEl.classList.add('colab-df-quickchart-complete');\n",
              "    }\n",
              "    (() => {\n",
              "      let quickchartButtonEl =\n",
              "        document.querySelector('#df-5fa25ded-80b5-4909-be1b-d79ce353cfa8 button');\n",
              "      quickchartButtonEl.style.display =\n",
              "        google.colab.kernel.accessAllowed ? 'block' : 'none';\n",
              "    })();\n",
              "  </script>\n",
              "</div>\n",
              "\n",
              "    </div>\n",
              "  </div>\n"
            ],
            "application/vnd.google.colaboratory.intrinsic+json": {
              "type": "dataframe",
              "variable_name": "df"
            }
          },
          "metadata": {},
          "execution_count": 176
        }
      ]
    },
    {
      "cell_type": "markdown",
      "source": [
        "## Reshape, and Clean Dataset"
      ],
      "metadata": {
        "id": "RQSe7eYLcAZd"
      }
    },
    {
      "cell_type": "code",
      "source": [
        "# Reshape the DataFrame\n",
        "df = df['Adj Close'].reset_index()\n",
        "df = pd.melt(df, id_vars='Date', value_vars=tickers, var_name='Ticker', value_name='Adj Close')\n",
        "df['Date'] = pd.to_datetime(df['Date']).dt.date\n",
        "df = df.rename(columns={'index': 'Ticker'})\n",
        "# Print or use the transformed DataFrame\n",
        "df.head()"
      ],
      "metadata": {
        "colab": {
          "base_uri": "https://localhost:8080/",
          "height": 206
        },
        "id": "t7GbgtEa9gI-",
        "outputId": "284b872b-0473-4421-e6c3-e92cecdbe53c"
      },
      "execution_count": 177,
      "outputs": [
        {
          "output_type": "execute_result",
          "data": {
            "text/plain": [
              "         Date Ticker  Adj Close\n",
              "0  2014-10-31    MMM  91.776764\n",
              "1  2014-11-03    MMM  91.496254\n",
              "2  2014-11-04    MMM  92.540741\n",
              "3  2014-11-05    MMM  92.922699\n",
              "4  2014-11-06    MMM  93.137573"
            ],
            "text/html": [
              "\n",
              "  <div id=\"df-6611d43a-e163-41a7-a2bf-f0c1224f3cf7\" class=\"colab-df-container\">\n",
              "    <div>\n",
              "<style scoped>\n",
              "    .dataframe tbody tr th:only-of-type {\n",
              "        vertical-align: middle;\n",
              "    }\n",
              "\n",
              "    .dataframe tbody tr th {\n",
              "        vertical-align: top;\n",
              "    }\n",
              "\n",
              "    .dataframe thead th {\n",
              "        text-align: right;\n",
              "    }\n",
              "</style>\n",
              "<table border=\"1\" class=\"dataframe\">\n",
              "  <thead>\n",
              "    <tr style=\"text-align: right;\">\n",
              "      <th></th>\n",
              "      <th>Date</th>\n",
              "      <th>Ticker</th>\n",
              "      <th>Adj Close</th>\n",
              "    </tr>\n",
              "  </thead>\n",
              "  <tbody>\n",
              "    <tr>\n",
              "      <th>0</th>\n",
              "      <td>2014-10-31</td>\n",
              "      <td>MMM</td>\n",
              "      <td>91.776764</td>\n",
              "    </tr>\n",
              "    <tr>\n",
              "      <th>1</th>\n",
              "      <td>2014-11-03</td>\n",
              "      <td>MMM</td>\n",
              "      <td>91.496254</td>\n",
              "    </tr>\n",
              "    <tr>\n",
              "      <th>2</th>\n",
              "      <td>2014-11-04</td>\n",
              "      <td>MMM</td>\n",
              "      <td>92.540741</td>\n",
              "    </tr>\n",
              "    <tr>\n",
              "      <th>3</th>\n",
              "      <td>2014-11-05</td>\n",
              "      <td>MMM</td>\n",
              "      <td>92.922699</td>\n",
              "    </tr>\n",
              "    <tr>\n",
              "      <th>4</th>\n",
              "      <td>2014-11-06</td>\n",
              "      <td>MMM</td>\n",
              "      <td>93.137573</td>\n",
              "    </tr>\n",
              "  </tbody>\n",
              "</table>\n",
              "</div>\n",
              "    <div class=\"colab-df-buttons\">\n",
              "\n",
              "  <div class=\"colab-df-container\">\n",
              "    <button class=\"colab-df-convert\" onclick=\"convertToInteractive('df-6611d43a-e163-41a7-a2bf-f0c1224f3cf7')\"\n",
              "            title=\"Convert this dataframe to an interactive table.\"\n",
              "            style=\"display:none;\">\n",
              "\n",
              "  <svg xmlns=\"http://www.w3.org/2000/svg\" height=\"24px\" viewBox=\"0 -960 960 960\">\n",
              "    <path d=\"M120-120v-720h720v720H120Zm60-500h600v-160H180v160Zm220 220h160v-160H400v160Zm0 220h160v-160H400v160ZM180-400h160v-160H180v160Zm440 0h160v-160H620v160ZM180-180h160v-160H180v160Zm440 0h160v-160H620v160Z\"/>\n",
              "  </svg>\n",
              "    </button>\n",
              "\n",
              "  <style>\n",
              "    .colab-df-container {\n",
              "      display:flex;\n",
              "      gap: 12px;\n",
              "    }\n",
              "\n",
              "    .colab-df-convert {\n",
              "      background-color: #E8F0FE;\n",
              "      border: none;\n",
              "      border-radius: 50%;\n",
              "      cursor: pointer;\n",
              "      display: none;\n",
              "      fill: #1967D2;\n",
              "      height: 32px;\n",
              "      padding: 0 0 0 0;\n",
              "      width: 32px;\n",
              "    }\n",
              "\n",
              "    .colab-df-convert:hover {\n",
              "      background-color: #E2EBFA;\n",
              "      box-shadow: 0px 1px 2px rgba(60, 64, 67, 0.3), 0px 1px 3px 1px rgba(60, 64, 67, 0.15);\n",
              "      fill: #174EA6;\n",
              "    }\n",
              "\n",
              "    .colab-df-buttons div {\n",
              "      margin-bottom: 4px;\n",
              "    }\n",
              "\n",
              "    [theme=dark] .colab-df-convert {\n",
              "      background-color: #3B4455;\n",
              "      fill: #D2E3FC;\n",
              "    }\n",
              "\n",
              "    [theme=dark] .colab-df-convert:hover {\n",
              "      background-color: #434B5C;\n",
              "      box-shadow: 0px 1px 3px 1px rgba(0, 0, 0, 0.15);\n",
              "      filter: drop-shadow(0px 1px 2px rgba(0, 0, 0, 0.3));\n",
              "      fill: #FFFFFF;\n",
              "    }\n",
              "  </style>\n",
              "\n",
              "    <script>\n",
              "      const buttonEl =\n",
              "        document.querySelector('#df-6611d43a-e163-41a7-a2bf-f0c1224f3cf7 button.colab-df-convert');\n",
              "      buttonEl.style.display =\n",
              "        google.colab.kernel.accessAllowed ? 'block' : 'none';\n",
              "\n",
              "      async function convertToInteractive(key) {\n",
              "        const element = document.querySelector('#df-6611d43a-e163-41a7-a2bf-f0c1224f3cf7');\n",
              "        const dataTable =\n",
              "          await google.colab.kernel.invokeFunction('convertToInteractive',\n",
              "                                                    [key], {});\n",
              "        if (!dataTable) return;\n",
              "\n",
              "        const docLinkHtml = 'Like what you see? Visit the ' +\n",
              "          '<a target=\"_blank\" href=https://colab.research.google.com/notebooks/data_table.ipynb>data table notebook</a>'\n",
              "          + ' to learn more about interactive tables.';\n",
              "        element.innerHTML = '';\n",
              "        dataTable['output_type'] = 'display_data';\n",
              "        await google.colab.output.renderOutput(dataTable, element);\n",
              "        const docLink = document.createElement('div');\n",
              "        docLink.innerHTML = docLinkHtml;\n",
              "        element.appendChild(docLink);\n",
              "      }\n",
              "    </script>\n",
              "  </div>\n",
              "\n",
              "\n",
              "<div id=\"df-702a2430-045c-41e3-a8d0-28c093f5f7b7\">\n",
              "  <button class=\"colab-df-quickchart\" onclick=\"quickchart('df-702a2430-045c-41e3-a8d0-28c093f5f7b7')\"\n",
              "            title=\"Suggest charts\"\n",
              "            style=\"display:none;\">\n",
              "\n",
              "<svg xmlns=\"http://www.w3.org/2000/svg\" height=\"24px\"viewBox=\"0 0 24 24\"\n",
              "     width=\"24px\">\n",
              "    <g>\n",
              "        <path d=\"M19 3H5c-1.1 0-2 .9-2 2v14c0 1.1.9 2 2 2h14c1.1 0 2-.9 2-2V5c0-1.1-.9-2-2-2zM9 17H7v-7h2v7zm4 0h-2V7h2v10zm4 0h-2v-4h2v4z\"/>\n",
              "    </g>\n",
              "</svg>\n",
              "  </button>\n",
              "\n",
              "<style>\n",
              "  .colab-df-quickchart {\n",
              "      --bg-color: #E8F0FE;\n",
              "      --fill-color: #1967D2;\n",
              "      --hover-bg-color: #E2EBFA;\n",
              "      --hover-fill-color: #174EA6;\n",
              "      --disabled-fill-color: #AAA;\n",
              "      --disabled-bg-color: #DDD;\n",
              "  }\n",
              "\n",
              "  [theme=dark] .colab-df-quickchart {\n",
              "      --bg-color: #3B4455;\n",
              "      --fill-color: #D2E3FC;\n",
              "      --hover-bg-color: #434B5C;\n",
              "      --hover-fill-color: #FFFFFF;\n",
              "      --disabled-bg-color: #3B4455;\n",
              "      --disabled-fill-color: #666;\n",
              "  }\n",
              "\n",
              "  .colab-df-quickchart {\n",
              "    background-color: var(--bg-color);\n",
              "    border: none;\n",
              "    border-radius: 50%;\n",
              "    cursor: pointer;\n",
              "    display: none;\n",
              "    fill: var(--fill-color);\n",
              "    height: 32px;\n",
              "    padding: 0;\n",
              "    width: 32px;\n",
              "  }\n",
              "\n",
              "  .colab-df-quickchart:hover {\n",
              "    background-color: var(--hover-bg-color);\n",
              "    box-shadow: 0 1px 2px rgba(60, 64, 67, 0.3), 0 1px 3px 1px rgba(60, 64, 67, 0.15);\n",
              "    fill: var(--button-hover-fill-color);\n",
              "  }\n",
              "\n",
              "  .colab-df-quickchart-complete:disabled,\n",
              "  .colab-df-quickchart-complete:disabled:hover {\n",
              "    background-color: var(--disabled-bg-color);\n",
              "    fill: var(--disabled-fill-color);\n",
              "    box-shadow: none;\n",
              "  }\n",
              "\n",
              "  .colab-df-spinner {\n",
              "    border: 2px solid var(--fill-color);\n",
              "    border-color: transparent;\n",
              "    border-bottom-color: var(--fill-color);\n",
              "    animation:\n",
              "      spin 1s steps(1) infinite;\n",
              "  }\n",
              "\n",
              "  @keyframes spin {\n",
              "    0% {\n",
              "      border-color: transparent;\n",
              "      border-bottom-color: var(--fill-color);\n",
              "      border-left-color: var(--fill-color);\n",
              "    }\n",
              "    20% {\n",
              "      border-color: transparent;\n",
              "      border-left-color: var(--fill-color);\n",
              "      border-top-color: var(--fill-color);\n",
              "    }\n",
              "    30% {\n",
              "      border-color: transparent;\n",
              "      border-left-color: var(--fill-color);\n",
              "      border-top-color: var(--fill-color);\n",
              "      border-right-color: var(--fill-color);\n",
              "    }\n",
              "    40% {\n",
              "      border-color: transparent;\n",
              "      border-right-color: var(--fill-color);\n",
              "      border-top-color: var(--fill-color);\n",
              "    }\n",
              "    60% {\n",
              "      border-color: transparent;\n",
              "      border-right-color: var(--fill-color);\n",
              "    }\n",
              "    80% {\n",
              "      border-color: transparent;\n",
              "      border-right-color: var(--fill-color);\n",
              "      border-bottom-color: var(--fill-color);\n",
              "    }\n",
              "    90% {\n",
              "      border-color: transparent;\n",
              "      border-bottom-color: var(--fill-color);\n",
              "    }\n",
              "  }\n",
              "</style>\n",
              "\n",
              "  <script>\n",
              "    async function quickchart(key) {\n",
              "      const quickchartButtonEl =\n",
              "        document.querySelector('#' + key + ' button');\n",
              "      quickchartButtonEl.disabled = true;  // To prevent multiple clicks.\n",
              "      quickchartButtonEl.classList.add('colab-df-spinner');\n",
              "      try {\n",
              "        const charts = await google.colab.kernel.invokeFunction(\n",
              "            'suggestCharts', [key], {});\n",
              "      } catch (error) {\n",
              "        console.error('Error during call to suggestCharts:', error);\n",
              "      }\n",
              "      quickchartButtonEl.classList.remove('colab-df-spinner');\n",
              "      quickchartButtonEl.classList.add('colab-df-quickchart-complete');\n",
              "    }\n",
              "    (() => {\n",
              "      let quickchartButtonEl =\n",
              "        document.querySelector('#df-702a2430-045c-41e3-a8d0-28c093f5f7b7 button');\n",
              "      quickchartButtonEl.style.display =\n",
              "        google.colab.kernel.accessAllowed ? 'block' : 'none';\n",
              "    })();\n",
              "  </script>\n",
              "</div>\n",
              "\n",
              "    </div>\n",
              "  </div>\n"
            ],
            "application/vnd.google.colaboratory.intrinsic+json": {
              "type": "dataframe",
              "variable_name": "df"
            }
          },
          "metadata": {},
          "execution_count": 177
        }
      ]
    },
    {
      "cell_type": "markdown",
      "source": [
        "## Calculate Returns\n",
        "\n",
        "Using log returns instead of simple returns has several advantages, especially in financial analysis:\n",
        "\n",
        "1. **Time Additivity**\n",
        "Log returns are time-additive, meaning that you can sum them over different periods to get the total return. For example, if you have daily log returns, you can sum them to find the cumulative return over a week or month.\n",
        "Simple returns, on the other hand, do not have this property and require a more complex calculation for cumulative returns.\n",
        "2. **Handling Compounding**\n",
        "Log returns account for compounding naturally. When returns are compounded, log returns provide a more accurate measure of the growth of an investment over time.\n",
        "Simple returns can underestimate or overestimate returns if not compounded properly.\n",
        "3. **Normality Assumption**\n",
        "Log returns tend to be more normally distributed than simple returns, particularly for large datasets. This property is useful for statistical modeling and risk management.\n",
        "4. **Symmetry (Time Additivity derived)**\n",
        "Log returns treat gains and losses symmetrically. A 10% gain followed by a 10% loss results in a net loss in simple returns, but the log returns more accurately reflect the continuous nature of returns.\n",
        "5. **Ease of Analysis**\n",
        "Many financial models, like the Black-Scholes option pricing model, rely on the normal distribution, making log returns more compatible with such models.\n",
        "\n",
        "**Conclusion** <br>\n",
        "While simple returns are easier to calculate and interpret for short-term analyses, log returns are generally more robust and useful for long-term investments and statistical analyses, especially when compounding and time periods are involved."
      ],
      "metadata": {
        "id": "LawbuQHVbeUW"
      }
    },
    {
      "cell_type": "code",
      "source": [
        "# Calculate daily log returns\n",
        "df['Daily_Log_Return'] = np.log(df['Adj Close'] / df['Adj Close'].shift(1))\n",
        "\n",
        "# Calculate quarterly log returns\n",
        "df['Quarterly_Log_Return'] = df.groupby('Ticker')['Daily_Log_Return'].rolling(window=63, min_periods=1).sum().reset_index(0,drop=True)"
      ],
      "metadata": {
        "id": "7d3K3D3Z_HU0"
      },
      "execution_count": 178,
      "outputs": []
    },
    {
      "cell_type": "markdown",
      "source": [
        "# Portfolio Optimization: Maximize the Sharpe Ratio"
      ],
      "metadata": {
        "id": "tEls-jQfeGdu"
      }
    },
    {
      "cell_type": "markdown",
      "source": [
        "To optimize the Sharpe ratio, you typically want to maximize the following objective function:\n",
        "\n",
        "$$\n",
        "S = \\frac{R_p - R_f}{\\sigma_p}\n",
        "$$\n",
        "- **Where**:\n",
        "  - $S$ = Sharpe ratio\n",
        "  - $R_p$ = Portfolio return\n",
        "    - $R_p = \\sum_{i=1}^{n} w_i \\cdot R_i$, Sum of return Weighted\n",
        "  - $R_f$ = Risk-free rate (to be defined)\n",
        "  - $sigma_p$ = Portfolio standard deviation (risk)\n",
        "    - $sigma_p = \\sqrt{w^T \\Sigma w} $\n",
        "        - $w$ = Weight of the portfolio\n",
        "        - $\\Sigma$ = Covariance Matrice\n",
        "\n",
        "<br>\n",
        "\n",
        "The optimization problem can be framed as follows:\n",
        "\n",
        "**Maximize:**\n",
        "$$\n",
        "S = \\frac{\\sum_{i=1}^{n} w_i \\cdot R_i - R_f}{\\sqrt{w^T \\Sigma w}}\n",
        "$$\n",
        "\n",
        "**Subject to**:\n",
        "- $\\sum_{i=1}^{n} w_i = 1 $\n",
        "- $w_i \\geq 0 $\n",
        "\n",
        "<br>\n",
        "\n",
        "### Implementation\n",
        "As it's difficult problem to resolve with a solver, our goal is to simplify the problem to a classic convex quadratic problem.\n",
        "\n",
        "1.   Following Tütüncü (section 5.2), \"Advanced Lecture on Mathematical Science and Information Science I\" this can be reformulated under a change of variables to a simpler quadratic optimisation problemm.\n",
        "\n",
        "    **Minimize:** $ y^TQy$\n",
        "    \n",
        "    **Subject to**:\n",
        "    - $\\hat{μ}Ty=1$\n",
        "    - $\\hat{A}y \\geq 0$\n",
        "    - $ 0 \\leq y$\n",
        "\n",
        "\n",
        "\n",
        "2.   Use Markowitz portfolio optimization or Minimum Variance Portfolio to plot the efficient frontier, pick the point which is graphically the best Sharpe Ratio."
      ],
      "metadata": {
        "id": "0HdOtxMUfixA"
      }
    },
    {
      "cell_type": "markdown",
      "source": [
        "## Calculate Shrink Covariance Matrice\n",
        "\n",
        "In situations with many variables and skewed data, using a shrinkage covariance matrix is typically the better choice.\n",
        "Here's why, we will use the Shrinkage Covariance Matrix :\n",
        "\n",
        "1.  **High Dimensionality:** When the number of variables is large relative to the number of observations, the standard covariance matrix can become unstable and lead to overfitting. Shrinkage helps to stabilize these estimates.\n",
        "\n",
        "2.   **Skewed Data:** Skewed data can affect the estimation of the covariance matrix. Shrinkage techniques can provide more robust estimates by incorporating prior information or adjusting the influence of extreme values.\n",
        "\n",
        "3.   **Variance Reduction:** Shrinkage methods reduce the variance of the covariance estimates, which is particularly beneficial in high dimensions. This can improve the reliability of downstream analyses, such as portfolio optimization or classification.\n",
        "\n",
        "4.  **Bias-Variance Trade-off:** While shrinkage introduces some bias, it often results in a lower mean squared error compared to the traditional covariance matrix, especially in high-dimensional contexts.\n",
        "\n",
        "**Conclusion** <br>\n",
        "Given the presence of many variables and skewed data, a shrunk covariance matrix is generally more effective, as it mitigates the instability and variability issues that arise in such scenarios. Techniques like Ledoit-Wolf shrinkage or other regularization methods can be particularly useful."
      ],
      "metadata": {
        "id": "L3mLBYjbQhWX"
      }
    },
    {
      "cell_type": "code",
      "source": [
        "def calculate_shrink_cov_matrix (df) :\n",
        "    masked_arr = np.ma.array(df, mask=np.isnan(df))\n",
        "    cov_numpy = np.ma.cov(masked_arr, rowvar=False, allow_masked=True, ddof=1).data\n",
        "    n_samples, n_features = df.shape\n",
        "    alpha = np.mean(cov_numpy**2)\n",
        "    mu = np.trace(cov_numpy) / n_features\n",
        "    mu_squared = mu**2\n",
        "    num = alpha + mu_squared\n",
        "    den = (n_samples + 1) * (alpha - mu_squared / n_features)\n",
        "    shrinkage = 1.0 if den == 0 else min(num / den, 1.0)\n",
        "    shrunk_cov = (1.0 - shrinkage) * cov_numpy\n",
        "    shrunk_cov.flat[:: n_features + 1] += shrinkage * mu\n",
        "    return shrunk_cov\n",
        "\n",
        "returns_matrix = pd.pivot_table(df[['Date','Ticker', 'Quarterly_Log_Return']], index ='Date', columns = 'Ticker', aggfunc='mean')\n",
        "covariance_matrix = calculate_shrink_cov_matrix(returns_matrix)\n",
        "# covariance_matrix = np.cov(returns_matrix)\n",
        "# cv = np.ma.cov(np.ma.masked_invalid(returns_matrix), rowvar=False)"
      ],
      "metadata": {
        "id": "Q2We4QxOBliY"
      },
      "execution_count": 229,
      "outputs": []
    },
    {
      "cell_type": "markdown",
      "source": [
        "## Optimization"
      ],
      "metadata": {
        "id": "AI7NRV0juFG6"
      }
    },
    {
      "cell_type": "code",
      "source": [
        "def calculate_portfolio_variance(weights, cov_matrix):\n",
        "    return np.dot(weights.T, np.dot(cov_matrix, weights))\n",
        "\n",
        "def calculate_portfolio_returns(weights, returns):\n",
        "    return np.dot(weights, returns)\n",
        "\n",
        "### Using Negative Sharpe Ratio, as we will use scipy.optimize.minimize\n",
        "def neg_sharpe_ratio_objective(weights, returns, cov_matrix, risk_free_rate = 0):\n",
        "    portfolio_returns = np.squeeze(calculate_portfolio_returns(weights, returns))\n",
        "    portfolio_variance = np.squeeze(calculate_portfolio_variance(weights, cov_matrix))\n",
        "    return -((portfolio_returns - risk_free_rate)/np.sqrt(portfolio_returns))\n",
        "\n",
        "def variance_objective(weights, returns, cov_matrix):\n",
        "    portfolio_variance = np.squeeze(calculate_portfolio_variance(weights, cov_matrix))\n",
        "    return portfolio_variance\n",
        "\n",
        "def markowitz_objective(weights, returns, cov_matrix, gamma = 0.02):\n",
        "    portfolio_returns = np.squeeze(calculate_portfolio_returns(weights, returns))\n",
        "    portfolio_variance = np.squeeze(calculate_portfolio_variance(weights, cov_matrix))\n",
        "    return (portfolio_returns - gamma * portfolio_variance)"
      ],
      "metadata": {
        "id": "VsNlh3F65NfL"
      },
      "execution_count": 235,
      "outputs": []
    },
    {
      "cell_type": "code",
      "source": [
        "gamma_vals = np.logspace(-2, 3, num=10)"
      ],
      "metadata": {
        "id": "NgRxf08B5-hX"
      },
      "execution_count": 233,
      "outputs": []
    },
    {
      "cell_type": "code",
      "source": [
        "gamma_vals"
      ],
      "metadata": {
        "id": "wSS962UN6AF6",
        "outputId": "a1ecc69e-c115-4fa0-c586-113b7ff596ec",
        "colab": {
          "base_uri": "https://localhost:8080/"
        }
      },
      "execution_count": 234,
      "outputs": [
        {
          "output_type": "execute_result",
          "data": {
            "text/plain": [
              "array([1.00000000e-02, 3.59381366e-02, 1.29154967e-01, 4.64158883e-01,\n",
              "       1.66810054e+00, 5.99484250e+00, 2.15443469e+01, 7.74263683e+01,\n",
              "       2.78255940e+02, 1.00000000e+03])"
            ]
          },
          "metadata": {},
          "execution_count": 234
        }
      ]
    },
    {
      "cell_type": "markdown",
      "source": [
        "### 1. **Minimize:** $ y^TQy$\n"
      ],
      "metadata": {
        "id": "1AcG9Htht-Yi"
      }
    },
    {
      "cell_type": "markdown",
      "source": [
        "### 2. **Maximize Markowitz portfolio optimization**"
      ],
      "metadata": {
        "id": "kWrnknsWv2LE"
      }
    },
    {
      "cell_type": "code",
      "source": [
        "# Last Quarter Returns\n",
        "returns = returns_matrix.iloc[-1].values\n",
        "#returns_matrix.mean().values.T @ weights # Can you the mean returns (but for 10 years quaterly return, I don't think it makes sense)\n",
        "\n",
        "# Init guess for the weights\n",
        "init_guess = np.array([1/len(returns) for _ in range(len(returns))])\n",
        "\n",
        "result = sp.optimize.minimize(fun=markowitz_objective,\n",
        "                            x0=init_guess,\n",
        "                            args=(returns, covariance_matrix),\n",
        "                            method='SLSQP',\n",
        "                            bounds=tuple((0,1) for _ in range(len(returns))),\n",
        "                            constraints=({'type': 'eq', 'fun': lambda x: np.sum(x) - 1}))\n",
        "\n",
        "print(result)"
      ],
      "metadata": {
        "id": "vYC0kwIJ5Uwo",
        "outputId": "f8dfe7ba-829a-45b7-d341-6b639eff5f6c",
        "colab": {
          "base_uri": "https://localhost:8080/"
        }
      },
      "execution_count": 236,
      "outputs": [
        {
          "output_type": "stream",
          "name": "stdout",
          "text": [
            " message: Optimization terminated successfully\n",
            " success: True\n",
            "  status: 0\n",
            "     fun: -0.8367711332202852\n",
            "       x: [ 0.000e+00  4.480e-15 ...  1.363e-15  0.000e+00]\n",
            "     nit: 4\n",
            "     jac: [-5.324e-02  5.933e-02 ...  7.065e-02 -1.026e-02]\n",
            "    nfev: 2008\n",
            "    njev: 4\n"
          ]
        }
      ]
    },
    {
      "cell_type": "markdown",
      "source": [
        "### 3. **Minimize portfolio Variance**\n",
        "\n"
      ],
      "metadata": {
        "id": "WKzlBHBpt18F"
      }
    },
    {
      "cell_type": "code",
      "source": [
        "# Last Quarter Returns\n",
        "returns = returns_matrix.iloc[-1].values\n",
        "#returns_matrix.mean().values.T @ weights # Can you the mean returns (but for 10 years quaterly return, I don't think it makes sense)\n",
        "\n",
        "# Init guess for the weights\n",
        "init_guess = np.array([1/len(returns) for _ in range(len(returns))])\n",
        "\n",
        "result = sp.optimize.minimize(fun=variance_objective,\n",
        "                            x0=init_guess,\n",
        "                            args=(returns, covariance_matrix),\n",
        "                            method='SLSQP',\n",
        "                            bounds=tuple((0,1) for _ in range(len(returns))),\n",
        "                            constraints=({'type': 'eq', 'fun': lambda x: np.sum(x) - 1}))\n",
        "\n",
        "print(result)"
      ],
      "metadata": {
        "id": "S2ee-zaS1EOR"
      },
      "execution_count": null,
      "outputs": []
    },
    {
      "cell_type": "code",
      "source": [
        "n = covariance_matrix.shape[0]\n",
        "weights = cp.Variable(n)\n",
        "\n",
        "# Define objective\n",
        "portfolio_risk = cp.quad_form(weights, covariance_matrix)\n",
        "objective = cp.Minimize(portfolio_risk)\n",
        "\n",
        "# Define Constraintss\n",
        "constraints = [cp.sum(weights) == 1,\n",
        "               weights >= 0\n",
        "               ]\n",
        "\n",
        "\n",
        "problem = cp.Problem(objective, constraints)\n",
        "problem.solve()"
      ],
      "metadata": {
        "id": "DWy3g5bUuV5a",
        "outputId": "002ce1f7-8c8a-4b37-d428-f0bf919669b9",
        "colab": {
          "base_uri": "https://localhost:8080/",
          "height": 449
        }
      },
      "execution_count": 232,
      "outputs": [
        {
          "output_type": "error",
          "ename": "DCPError",
          "evalue": "Problem does not follow DCP rules. Specifically:\nThe objective is not DCP. Its following subexpressions are not:\nQuadForm(var504226, [[0.04 0.01 ... 0.03 0.03]\n [0.01 0.02 ... 0.01 0.01]\n ...\n [0.03 0.01 ... 0.04 0.02]\n [0.03 0.01 ... 0.02 0.03]])",
          "traceback": [
            "\u001b[0;31m---------------------------------------------------------------------------\u001b[0m",
            "\u001b[0;31mDCPError\u001b[0m                                  Traceback (most recent call last)",
            "\u001b[0;32m<ipython-input-232-663dfea12a41>\u001b[0m in \u001b[0;36m<cell line: 15>\u001b[0;34m()\u001b[0m\n\u001b[1;32m     13\u001b[0m \u001b[0;34m\u001b[0m\u001b[0m\n\u001b[1;32m     14\u001b[0m \u001b[0mproblem\u001b[0m \u001b[0;34m=\u001b[0m \u001b[0mcp\u001b[0m\u001b[0;34m.\u001b[0m\u001b[0mProblem\u001b[0m\u001b[0;34m(\u001b[0m\u001b[0mobjective\u001b[0m\u001b[0;34m,\u001b[0m \u001b[0mconstraints\u001b[0m\u001b[0;34m)\u001b[0m\u001b[0;34m\u001b[0m\u001b[0;34m\u001b[0m\u001b[0m\n\u001b[0;32m---> 15\u001b[0;31m \u001b[0mproblem\u001b[0m\u001b[0;34m.\u001b[0m\u001b[0msolve\u001b[0m\u001b[0;34m(\u001b[0m\u001b[0;34m)\u001b[0m\u001b[0;34m\u001b[0m\u001b[0;34m\u001b[0m\u001b[0m\n\u001b[0m",
            "\u001b[0;32m/usr/local/lib/python3.10/dist-packages/cvxpy/problems/problem.py\u001b[0m in \u001b[0;36msolve\u001b[0;34m(self, *args, **kwargs)\u001b[0m\n\u001b[1;32m    501\u001b[0m         \u001b[0;32melse\u001b[0m\u001b[0;34m:\u001b[0m\u001b[0;34m\u001b[0m\u001b[0;34m\u001b[0m\u001b[0m\n\u001b[1;32m    502\u001b[0m             \u001b[0msolve_func\u001b[0m \u001b[0;34m=\u001b[0m \u001b[0mProblem\u001b[0m\u001b[0;34m.\u001b[0m\u001b[0m_solve\u001b[0m\u001b[0;34m\u001b[0m\u001b[0;34m\u001b[0m\u001b[0m\n\u001b[0;32m--> 503\u001b[0;31m         \u001b[0;32mreturn\u001b[0m \u001b[0msolve_func\u001b[0m\u001b[0;34m(\u001b[0m\u001b[0mself\u001b[0m\u001b[0;34m,\u001b[0m \u001b[0;34m*\u001b[0m\u001b[0margs\u001b[0m\u001b[0;34m,\u001b[0m \u001b[0;34m**\u001b[0m\u001b[0mkwargs\u001b[0m\u001b[0;34m)\u001b[0m\u001b[0;34m\u001b[0m\u001b[0;34m\u001b[0m\u001b[0m\n\u001b[0m\u001b[1;32m    504\u001b[0m \u001b[0;34m\u001b[0m\u001b[0m\n\u001b[1;32m    505\u001b[0m     \u001b[0;34m@\u001b[0m\u001b[0mclassmethod\u001b[0m\u001b[0;34m\u001b[0m\u001b[0;34m\u001b[0m\u001b[0m\n",
            "\u001b[0;32m/usr/local/lib/python3.10/dist-packages/cvxpy/problems/problem.py\u001b[0m in \u001b[0;36m_solve\u001b[0;34m(self, solver, warm_start, verbose, gp, qcp, requires_grad, enforce_dpp, ignore_dpp, canon_backend, **kwargs)\u001b[0m\n\u001b[1;32m   1071\u001b[0m                 \u001b[0;32mreturn\u001b[0m \u001b[0mself\u001b[0m\u001b[0;34m.\u001b[0m\u001b[0mvalue\u001b[0m\u001b[0;34m\u001b[0m\u001b[0;34m\u001b[0m\u001b[0m\n\u001b[1;32m   1072\u001b[0m \u001b[0;34m\u001b[0m\u001b[0m\n\u001b[0;32m-> 1073\u001b[0;31m         data, solving_chain, inverse_data = self.get_problem_data(\n\u001b[0m\u001b[1;32m   1074\u001b[0m             \u001b[0msolver\u001b[0m\u001b[0;34m,\u001b[0m \u001b[0mgp\u001b[0m\u001b[0;34m,\u001b[0m \u001b[0menforce_dpp\u001b[0m\u001b[0;34m,\u001b[0m \u001b[0mignore_dpp\u001b[0m\u001b[0;34m,\u001b[0m \u001b[0mverbose\u001b[0m\u001b[0;34m,\u001b[0m \u001b[0mcanon_backend\u001b[0m\u001b[0;34m,\u001b[0m \u001b[0mkwargs\u001b[0m\u001b[0;34m\u001b[0m\u001b[0;34m\u001b[0m\u001b[0m\n\u001b[1;32m   1075\u001b[0m         )\n",
            "\u001b[0;32m/usr/local/lib/python3.10/dist-packages/cvxpy/problems/problem.py\u001b[0m in \u001b[0;36mget_problem_data\u001b[0;34m(self, solver, gp, enforce_dpp, ignore_dpp, verbose, canon_backend, solver_opts)\u001b[0m\n\u001b[1;32m    644\u001b[0m         \u001b[0;32mif\u001b[0m \u001b[0mkey\u001b[0m \u001b[0;34m!=\u001b[0m \u001b[0mself\u001b[0m\u001b[0;34m.\u001b[0m\u001b[0m_cache\u001b[0m\u001b[0;34m.\u001b[0m\u001b[0mkey\u001b[0m\u001b[0;34m:\u001b[0m\u001b[0;34m\u001b[0m\u001b[0;34m\u001b[0m\u001b[0m\n\u001b[1;32m    645\u001b[0m             \u001b[0mself\u001b[0m\u001b[0;34m.\u001b[0m\u001b[0m_cache\u001b[0m\u001b[0;34m.\u001b[0m\u001b[0minvalidate\u001b[0m\u001b[0;34m(\u001b[0m\u001b[0;34m)\u001b[0m\u001b[0;34m\u001b[0m\u001b[0;34m\u001b[0m\u001b[0m\n\u001b[0;32m--> 646\u001b[0;31m             solving_chain = self._construct_chain(\n\u001b[0m\u001b[1;32m    647\u001b[0m                 \u001b[0msolver\u001b[0m\u001b[0;34m=\u001b[0m\u001b[0msolver\u001b[0m\u001b[0;34m,\u001b[0m \u001b[0mgp\u001b[0m\u001b[0;34m=\u001b[0m\u001b[0mgp\u001b[0m\u001b[0;34m,\u001b[0m\u001b[0;34m\u001b[0m\u001b[0;34m\u001b[0m\u001b[0m\n\u001b[1;32m    648\u001b[0m                 \u001b[0menforce_dpp\u001b[0m\u001b[0;34m=\u001b[0m\u001b[0menforce_dpp\u001b[0m\u001b[0;34m,\u001b[0m\u001b[0;34m\u001b[0m\u001b[0;34m\u001b[0m\u001b[0m\n",
            "\u001b[0;32m/usr/local/lib/python3.10/dist-packages/cvxpy/problems/problem.py\u001b[0m in \u001b[0;36m_construct_chain\u001b[0;34m(self, solver, gp, enforce_dpp, ignore_dpp, canon_backend, solver_opts)\u001b[0m\n\u001b[1;32m    896\u001b[0m         \u001b[0mcandidate_solvers\u001b[0m \u001b[0;34m=\u001b[0m \u001b[0mself\u001b[0m\u001b[0;34m.\u001b[0m\u001b[0m_find_candidate_solvers\u001b[0m\u001b[0;34m(\u001b[0m\u001b[0msolver\u001b[0m\u001b[0;34m=\u001b[0m\u001b[0msolver\u001b[0m\u001b[0;34m,\u001b[0m \u001b[0mgp\u001b[0m\u001b[0;34m=\u001b[0m\u001b[0mgp\u001b[0m\u001b[0;34m)\u001b[0m\u001b[0;34m\u001b[0m\u001b[0;34m\u001b[0m\u001b[0m\n\u001b[1;32m    897\u001b[0m         \u001b[0mself\u001b[0m\u001b[0;34m.\u001b[0m\u001b[0m_sort_candidate_solvers\u001b[0m\u001b[0;34m(\u001b[0m\u001b[0mcandidate_solvers\u001b[0m\u001b[0;34m)\u001b[0m\u001b[0;34m\u001b[0m\u001b[0;34m\u001b[0m\u001b[0m\n\u001b[0;32m--> 898\u001b[0;31m         return construct_solving_chain(self, candidate_solvers, gp=gp,\n\u001b[0m\u001b[1;32m    899\u001b[0m                                        \u001b[0menforce_dpp\u001b[0m\u001b[0;34m=\u001b[0m\u001b[0menforce_dpp\u001b[0m\u001b[0;34m,\u001b[0m\u001b[0;34m\u001b[0m\u001b[0;34m\u001b[0m\u001b[0m\n\u001b[1;32m    900\u001b[0m                                        \u001b[0mignore_dpp\u001b[0m\u001b[0;34m=\u001b[0m\u001b[0mignore_dpp\u001b[0m\u001b[0;34m,\u001b[0m\u001b[0;34m\u001b[0m\u001b[0;34m\u001b[0m\u001b[0m\n",
            "\u001b[0;32m/usr/local/lib/python3.10/dist-packages/cvxpy/reductions/solvers/solving_chain.py\u001b[0m in \u001b[0;36mconstruct_solving_chain\u001b[0;34m(problem, candidates, gp, enforce_dpp, ignore_dpp, canon_backend, solver_opts, specified_solver)\u001b[0m\n\u001b[1;32m    226\u001b[0m     \u001b[0;32mif\u001b[0m \u001b[0mlen\u001b[0m\u001b[0;34m(\u001b[0m\u001b[0mproblem\u001b[0m\u001b[0;34m.\u001b[0m\u001b[0mvariables\u001b[0m\u001b[0;34m(\u001b[0m\u001b[0;34m)\u001b[0m\u001b[0;34m)\u001b[0m \u001b[0;34m==\u001b[0m \u001b[0;36m0\u001b[0m\u001b[0;34m:\u001b[0m\u001b[0;34m\u001b[0m\u001b[0;34m\u001b[0m\u001b[0m\n\u001b[1;32m    227\u001b[0m         \u001b[0;32mreturn\u001b[0m \u001b[0mSolvingChain\u001b[0m\u001b[0;34m(\u001b[0m\u001b[0mreductions\u001b[0m\u001b[0;34m=\u001b[0m\u001b[0;34m[\u001b[0m\u001b[0mConstantSolver\u001b[0m\u001b[0;34m(\u001b[0m\u001b[0;34m)\u001b[0m\u001b[0;34m]\u001b[0m\u001b[0;34m)\u001b[0m\u001b[0;34m\u001b[0m\u001b[0;34m\u001b[0m\u001b[0m\n\u001b[0;32m--> 228\u001b[0;31m     \u001b[0mreductions\u001b[0m \u001b[0;34m=\u001b[0m \u001b[0m_reductions_for_problem_class\u001b[0m\u001b[0;34m(\u001b[0m\u001b[0mproblem\u001b[0m\u001b[0;34m,\u001b[0m \u001b[0mcandidates\u001b[0m\u001b[0;34m,\u001b[0m \u001b[0mgp\u001b[0m\u001b[0;34m,\u001b[0m \u001b[0msolver_opts\u001b[0m\u001b[0;34m)\u001b[0m\u001b[0;34m\u001b[0m\u001b[0;34m\u001b[0m\u001b[0m\n\u001b[0m\u001b[1;32m    229\u001b[0m \u001b[0;34m\u001b[0m\u001b[0m\n\u001b[1;32m    230\u001b[0m     \u001b[0;31m# Process DPP status of the problem.\u001b[0m\u001b[0;34m\u001b[0m\u001b[0;34m\u001b[0m\u001b[0m\n",
            "\u001b[0;32m/usr/local/lib/python3.10/dist-packages/cvxpy/reductions/solvers/solving_chain.py\u001b[0m in \u001b[0;36m_reductions_for_problem_class\u001b[0;34m(problem, candidates, gp, solver_opts)\u001b[0m\n\u001b[1;32m    141\u001b[0m             append += (\"\\nHowever, the problem does follow DQCP rules. \"\n\u001b[1;32m    142\u001b[0m                        \"Consider calling solve() with `qcp=True`.\")\n\u001b[0;32m--> 143\u001b[0;31m         raise DCPError(\n\u001b[0m\u001b[1;32m    144\u001b[0m             \"Problem does not follow DCP rules. Specifically:\\n\" + append)\n\u001b[1;32m    145\u001b[0m     \u001b[0;32melif\u001b[0m \u001b[0mgp\u001b[0m \u001b[0;32mand\u001b[0m \u001b[0;32mnot\u001b[0m \u001b[0mproblem\u001b[0m\u001b[0;34m.\u001b[0m\u001b[0mis_dgp\u001b[0m\u001b[0;34m(\u001b[0m\u001b[0;34m)\u001b[0m\u001b[0;34m:\u001b[0m\u001b[0;34m\u001b[0m\u001b[0;34m\u001b[0m\u001b[0m\n",
            "\u001b[0;31mDCPError\u001b[0m: Problem does not follow DCP rules. Specifically:\nThe objective is not DCP. Its following subexpressions are not:\nQuadForm(var504226, [[0.04 0.01 ... 0.03 0.03]\n [0.01 0.02 ... 0.01 0.01]\n ...\n [0.03 0.01 ... 0.04 0.02]\n [0.03 0.01 ... 0.02 0.03]])"
          ]
        }
      ]
    },
    {
      "cell_type": "code",
      "source": [],
      "metadata": {
        "id": "8ozgzVtRuV22"
      },
      "execution_count": null,
      "outputs": []
    },
    {
      "cell_type": "code",
      "source": [],
      "metadata": {
        "id": "aI4OZg6IuV0Y"
      },
      "execution_count": null,
      "outputs": []
    },
    {
      "cell_type": "code",
      "source": [],
      "metadata": {
        "id": "5k1JQW8ZuVxw"
      },
      "execution_count": null,
      "outputs": []
    },
    {
      "cell_type": "code",
      "source": [],
      "metadata": {
        "id": "5SpbUbz7uVvh"
      },
      "execution_count": null,
      "outputs": []
    },
    {
      "cell_type": "code",
      "source": [],
      "metadata": {
        "id": "A2YoobwmuVsa"
      },
      "execution_count": null,
      "outputs": []
    },
    {
      "cell_type": "code",
      "source": [],
      "metadata": {
        "id": "aq6XCb6vuVpl"
      },
      "execution_count": null,
      "outputs": []
    },
    {
      "cell_type": "code",
      "source": [],
      "metadata": {
        "id": "JIoUt7fKuVm7"
      },
      "execution_count": null,
      "outputs": []
    },
    {
      "cell_type": "markdown",
      "source": [
        "## Using Scipy Optimize Solver"
      ],
      "metadata": {
        "id": "yrzQY0EDQl4A"
      }
    },
    {
      "cell_type": "code",
      "source": [],
      "metadata": {
        "id": "E-WUiGm3Gi5E"
      },
      "execution_count": null,
      "outputs": []
    },
    {
      "cell_type": "code",
      "source": [],
      "metadata": {
        "id": "g4-UVBhsGgm9"
      },
      "execution_count": null,
      "outputs": []
    },
    {
      "cell_type": "markdown",
      "source": [
        "## Using Convex Solver (CVXPY)"
      ],
      "metadata": {
        "id": "krZ_xWqlSb1E"
      }
    },
    {
      "cell_type": "code",
      "source": [
        "weights = cp.Variable(returns.shape[0])\n",
        "# gamma = cp.Parameter(nonneg=True)\n",
        "\n",
        "# Define the objective function (maximize return)\n",
        "portfolio_return = returns @ weights\n",
        "portfolio_risk = cp.sum_squares(cp.quad_form(weights, covariance_matrix))\n",
        "objective = cp.Maximize(portfolio_return)\n",
        "\n",
        "# Define the constraints\n",
        "constraints = [\n",
        "    cp.sum(weights) == 1,\n",
        "    weights >= 0.005, # not less than 5% of the weight on one asset\n",
        "    portfolio_risk <= 0.1,\n",
        "]\n",
        "\n",
        "# Solve the optimization problem\n",
        "problem = cp.Problem(objective, constraints)\n",
        "problem.solve()#qcp=True, verbose= False, solver= 'SCS', eps= 1e-10, max_iters = 100000, warm_start= True)"
      ],
      "metadata": {
        "id": "Hx97KqwoSWnc"
      },
      "execution_count": null,
      "outputs": []
    },
    {
      "cell_type": "code",
      "source": [],
      "metadata": {
        "id": "Xm117pdCTTQQ"
      },
      "execution_count": null,
      "outputs": []
    }
  ],
  "metadata": {
    "colab": {
      "name": "Making the most of your colab subscription",
      "provenance": [],
      "toc_visible": true,
      "include_colab_link": true
    },
    "kernelspec": {
      "display_name": "Python 3",
      "name": "python3"
    }
  },
  "nbformat": 4,
  "nbformat_minor": 0
}