{
  "nbformat": 4,
  "nbformat_minor": 0,
  "metadata": {
    "colab": {
      "provenance": [],
      "mount_file_id": "1HO0FkQ2tnrI5EiIU5YCax2DrTBhxlGl6",
      "authorship_tag": "ABX9TyPHHNQo3ku7R8aUfSJ33SbS",
      "include_colab_link": true
    },
    "kernelspec": {
      "name": "python3",
      "display_name": "Python 3"
    },
    "language_info": {
      "name": "python"
    }
  },
  "cells": [
    {
      "cell_type": "markdown",
      "metadata": {
        "id": "view-in-github",
        "colab_type": "text"
      },
      "source": [
        "<a href=\"https://colab.research.google.com/github/alexandreib/QuantDesign/blob/main/QD.ipynb\" target=\"_parent\"><img src=\"https://colab.research.google.com/assets/colab-badge.svg\" alt=\"Open In Colab\"/></a>"
      ]
    },
    {
      "cell_type": "code",
      "source": [
        "def is_gpu():\n",
        "    from tensorflow.python.client import device_lib # when only CPU is enabled the list shows two CPU entries, otherwise there are more, listing GPU as well\n",
        "    return len(device_lib.list_local_devices()) >= 2\n",
        "\n",
        "def in_colab():\n",
        "    return True if 'google.colab' in str(get_ipython()) else False\n",
        "\n",
        "if in_colab():\n",
        "    from google.colab import drive\n",
        "    drive.mount('/content/drive', force_remount=False)"
      ],
      "metadata": {
        "colab": {
          "base_uri": "https://localhost:8080/"
        },
        "id": "ZWSM_rIBs_NC",
        "outputId": "0b19debf-244b-4051-f873-80c7da6cda2d"
      },
      "execution_count": 31,
      "outputs": [
        {
          "output_type": "stream",
          "name": "stdout",
          "text": [
            "Drive already mounted at /content/drive; to attempt to forcibly remount, call drive.mount(\"/content/drive\", force_remount=True).\n"
          ]
        }
      ]
    },
    {
      "cell_type": "code",
      "execution_count": 32,
      "metadata": {
        "id": "drXCPvhLsq-h"
      },
      "outputs": [],
      "source": [
        "import numpy as np\n",
        "import pandas as pd\n",
        "import seaborn as sns\n",
        "import matplotlib.pyplot as plt\n",
        "import scipy as sp\n",
        "\n",
        "import plotly.express as px\n",
        "import plotly.graph_objects as go\n",
        "from plotly.subplots import make_subplots\n",
        "\n",
        "import copy"
      ]
    },
    {
      "cell_type": "code",
      "source": [
        "CFG = {}\n",
        "CFG['verbose'] = True\n",
        "CFG['l_resamples'] = ['30min', '60min', 'D']"
      ],
      "metadata": {
        "id": "zrOPreh7K51q"
      },
      "execution_count": 33,
      "outputs": []
    },
    {
      "cell_type": "code",
      "source": [
        "# raw =[]\n",
        "# with open('/content/drive/MyDrive/QuantDesign/GCESIE_1min.txt') as file:\n",
        "#     for i, line in enumerate(file):\n",
        "#         if i > 2 :\n",
        "#             line = line.split(' ')\n",
        "#             idx_date = -7\n",
        "#             idx_time = -6\n",
        "#             idx_close= -2\n",
        "#             raw.append({'index' : i, 'date' : line[idx_date], 'time' : line[idx_time][:-1], 'close' : line[idx_close][:-1],})\n",
        "#         else :\n",
        "#             print(line)\n",
        "# raw = pd.DataFrame(raw).set_index('index')\n",
        "# raw['datetime'] = pd.to_datetime(raw['date'] + ' ' + raw['time'])\n",
        "# raw['close'] = raw['close'].astype(float)\n",
        "# raw.to_parquet('/content/drive/MyDrive/QuantDesign/GCESIE_1min.parquet')\n",
        "\n",
        "raw = pd.read_parquet('/content/drive/MyDrive/QuantDesign/GCESIE_1min.parquet')\n",
        "\n",
        "if CFG['verbose'] : display(raw.head())\n",
        "if CFG['verbose'] : print(raw.shape)"
      ],
      "metadata": {
        "id": "w5lVC-UWu4xk"
      },
      "execution_count": null,
      "outputs": []
    },
    {
      "cell_type": "code",
      "source": [
        "ldf = []\n",
        "\n",
        "for i, resample in enumerate(CFG['l_resamples']) :\n",
        "    ldf.append(pd.concat([raw[['datetime','close']].set_index('datetime').resample(resample).first().rename(columns = {'close':'open'}),\n",
        "                raw[['datetime','close']].set_index('datetime').resample(resample).last().rename(columns = {'close':'close'}),\n",
        "                raw[['datetime','close']].set_index('datetime').resample(resample).max().rename(columns = {'close':'high'}),\n",
        "                raw[['datetime','close']].set_index('datetime').resample(resample).min().rename(columns = {'close':'low'}),\n",
        "                raw[['datetime','close']].set_index('datetime').resample(resample).mean().rename(columns = {'close':'mean'}),\n",
        "            ], axis = 1).dropna().reset_index())\n",
        "    if CFG['verbose'] : display(ldf[i].head())"
      ],
      "metadata": {
        "id": "dY13kp9afsOy"
      },
      "execution_count": null,
      "outputs": []
    },
    {
      "cell_type": "code",
      "source": [
        "def calculate_twap(df, column = 'mean', episode = 2):\n",
        "  return df[column].rolling(episode).mean().array\n",
        "\n",
        "def ATR(df, window = 14):\n",
        "    High_minus_Low = df['high'] - df['low']\n",
        "    High_minus_Close = abs(df['high'] - df['close'].shift(1))\n",
        "    Low_minus_Close = abs(df['low'] - df['close'].shift(1))\n",
        "    TR = pd.concat([High_minus_Low, High_minus_Close, Low_minus_Close], axis=1).max(axis=1)\n",
        "    return TR.ewm(alpha=1 / window).mean()\n",
        "\n",
        "for i, df in enumerate(ldf) :\n",
        "    df = ldf[i]\n",
        "    df[f'TWAP_10'] = calculate_twap(df, episode = 10)\n",
        "    df[f'TWAP_20'] = calculate_twap(df, episode = 20)\n",
        "    df[f'TWAP_30'] = calculate_twap(df, episode = 30)\n",
        "    df[f'TWAP_40'] = calculate_twap(df, episode = 40)\n",
        "\n",
        "    df['ATR'] = ATR(df) # Other option : talib.ATR(df['High'], df['Low'], df['Close'], timeperiod=14)\n",
        "\n",
        "    df = df.dropna().reset_index(drop = True)\n",
        "    ldf[i] = df\n",
        "    if CFG['verbose'] : display(df.tail())"
      ],
      "metadata": {
        "id": "urk3hP_jYRq2"
      },
      "execution_count": null,
      "outputs": []
    },
    {
      "cell_type": "code",
      "source": [
        "dict_colors = {'close': 'brown',\n",
        "               'TWAP_10': 'black',\n",
        "               'TWAP_20': 'green',\n",
        "               'TWAP_30': 'red',\n",
        "               'TWAP_40': 'blue'}\n",
        "\n",
        "last_x_point = 1000\n",
        "\n",
        "fig = make_subplots(rows=2, cols=len(ldf))\n",
        "for i, df in enumerate(ldf) :\n",
        "    for col in dict_colors :\n",
        "        fig.add_trace(go.Scatter(x = df['datetime'].tail(last_x_point),\n",
        "                                 y = df[col].tail(last_x_point),\n",
        "                                 mode = 'lines',\n",
        "                                 name = col,\n",
        "                                 line=dict(color=dict_colors[col])),\n",
        "                      row = 1, col = i+1)\n",
        "\n",
        "    fig.add_trace(go.Scatter(x = df['datetime'].tail(last_x_point),\n",
        "                                y = df['ATR'].tail(last_x_point),\n",
        "                                mode = 'lines',\n",
        "                                name = 'ATR',\n",
        "                                line=dict(color='orange', width=2)),\n",
        "                    row=2, col= i+1)\n",
        "\n",
        "fig.update_layout( title='Spread Gold', height=600,\n",
        "    margin=dict(l=10, r=10, t=30, b=10),\n",
        "    showlegend=True,\n",
        ")\n",
        "\n",
        "fig.show()"
      ],
      "metadata": {
        "id": "NofuOIY9uTZh"
      },
      "execution_count": null,
      "outputs": []
    },
    {
      "cell_type": "code",
      "source": [
        "fig, (ax1, ax2) = plt.subplots(1, 2, figsize=(15, 6))\n",
        "for i, df in enumerate(ldf) :\n",
        "    sns.scatterplot(df['mean'], ax = ax1,)\n",
        "    sns.kdeplot(df['mean'], ax = ax2, )\n",
        "plt.show()"
      ],
      "metadata": {
        "id": "0J5LDr1Jrx58"
      },
      "execution_count": null,
      "outputs": []
    },
    {
      "cell_type": "code",
      "source": [
        "df = copy.deepcopy(ldf[0])\n",
        "df.columns = df.columns + '_' + CFG['l_resamples'][0]\n",
        "\n",
        "for i, dft in enumerate(ldf[1:]) :\n",
        "    dft = dft.drop(['open', 'close', 'high', 'low',  'mean'], axis = 1)\n",
        "    dft.columns = dft.columns + '_' + CFG['l_resamples'][i+1]\n",
        "    dft[f\"datetime_{CFG['l_resamples'][i+1]}\"] = dft[f\"datetime_{CFG['l_resamples'][i+1]}\"].shift(-1)\n",
        "    df = df.merge(dft, left_on = f\"datetime_{CFG['l_resamples'][0]}\", right_on = f\"datetime_{CFG['l_resamples'][i+1]}\", how = 'left')\n",
        "\n",
        "if CFG['verbose'] : display(df.head())\n",
        "if CFG['verbose'] : display(df.tail())"
      ],
      "metadata": {
        "id": "Mq__zpp-OlMu"
      },
      "execution_count": null,
      "outputs": []
    },
    {
      "cell_type": "code",
      "source": [
        "df['diff_10_30min'] = diff_10_30min = df['close_30min'] - df[f'TWAP_10_30min']\n",
        "df['diff_20_30min'] = diff_20_30min = df['close_30min'] - df[f'TWAP_20_30min']\n",
        "df['diff_30_30min'] = diff_30_30min = df['close_30min'] - df[f'TWAP_30_30min']\n",
        "df['diff_40_30min'] = diff_40_30min = df['close_30min'] - df[f'TWAP_40_30min']\n",
        "\n",
        "df['diff_10_60min'] = diff_10_60min = df['close_30min'] - df[f'TWAP_10_60min']\n",
        "df['diff_20_60min'] = diff_20_60min = df['close_30min'] - df[f'TWAP_20_60min']\n",
        "df['diff_30_60min'] = diff_30_60min = df['close_30min'] - df[f'TWAP_30_60min']\n",
        "df['diff_40_60min'] = diff_40_60min = df['close_30min'] - df[f'TWAP_40_60min']\n",
        "\n",
        "df['diff_10_D'] = diff_10_D = df['close_30min'] - df[f'TWAP_10_D']\n",
        "df['diff_20_D'] = diff_20_D = df['close_30min'] - df[f'TWAP_20_D']\n",
        "df['diff_30_D'] = diff_30_D = df['close_30min'] - df[f'TWAP_30_D']\n",
        "df['diff_40_D'] = diff_40_D = df['close_30min'] - df[f'TWAP_40_D']\n",
        "\n",
        "df['Log_Return'] = Log_Return = np.log(df['close_30min'] / df['close_30min'].shift(1))\n",
        "df = df.ffill().dropna()"
      ],
      "metadata": {
        "id": "6iGUbcIoO3N4"
      },
      "execution_count": null,
      "outputs": []
    },
    {
      "cell_type": "code",
      "source": [
        "fig, ax = plt.subplots(3, 3, figsize=(25, 8))\n",
        "for i, resample in enumerate(CFG['l_resamples']) :\n",
        "    sns.lineplot(data = df.tail(last_x_point), x ='datetime_30min' ,y = 'close_30min', ax = ax[0][i])\n",
        "\n",
        "    sns.lineplot(data = df.tail(last_x_point), x ='datetime_30min' ,y = f'diff_10_{resample}', ax = ax[1][i])\n",
        "    sns.lineplot(data = df.tail(last_x_point), x ='datetime_30min' ,y = f'diff_20_{resample}', ax = ax[1][i])\n",
        "    sns.lineplot(data = df.tail(last_x_point), x ='datetime_30min' ,y = f'diff_30_{resample}', ax = ax[1][i])\n",
        "    sns.lineplot(data = df.tail(last_x_point), x ='datetime_30min' ,y = f'diff_40_{resample}', ax = ax[1][i])\n",
        "\n",
        "    sns.kdeplot(df[f'diff_10_{resample}'], ax = ax[2][i])\n",
        "    sns.kdeplot(df[f'diff_20_{resample}'], ax = ax[2][i])\n",
        "    sns.kdeplot(df[f'diff_30_{resample}'], ax = ax[2][i])\n",
        "    sns.kdeplot(df[f'diff_40_{resample}'], ax = ax[2][i])\n",
        "\n",
        "plt.show()"
      ],
      "metadata": {
        "id": "9OTDjOPZQhKh"
      },
      "execution_count": null,
      "outputs": []
    },
    {
      "cell_type": "code",
      "source": [
        "def calculate_returns(weights):\n",
        "    global Log_Return, threshold, diff_10_30min, diff_20_30min, diff_30_30min, diff_40_30min, diff_10_60min, diff_20_60min, diff_30_60min, diff_40_60min, diff_10_D, diff_20_D, diff_30_D, diff_40_D\n",
        "    index = (weights[0] * diff_10_30min + weights[1] * diff_20_30min + weights[2] * diff_30_30min + weights[3] * diff_40_30min + \\\n",
        "             weights[4] * diff_10_60min + weights[5] * diff_20_60min + weights[6] * diff_30_60min + weights[7] * diff_40_60min + \\\n",
        "             weights[8] * diff_10_D + weights[9] * diff_20_D + weights[10] * diff_30_D + weights[11] * diff_40_D\n",
        "             ).shift().fillna(0)\n",
        "    index[threshold > np.abs(index)] = 0\n",
        "    return -1 * np.sum(np.tanh(index) * Log_Return)\n",
        "\n",
        "number_of_weights = len(CFG['l_resamples']) * 4\n",
        "weights = [1/number_of_weights for i in range(number_of_weights)]\n",
        "threshold = 2\n",
        "\n",
        "def optimize_weights(threshold = 0) :\n",
        "    result = sp.optimize.minimize(fun = calculate_returns,\n",
        "                                x0 = [1/number_of_weights for i in range(number_of_weights)],\n",
        "                                method = 'SLSQP',\n",
        "                                bounds = tuple((0.01, 0.2) for _ in range(number_of_weights)),\n",
        "                                constraints = ({'type': 'eq', 'fun': lambda w: np.sum(w) - 1})\n",
        "                                )\n",
        "    # weights = result.x\n",
        "    # print(result.x)\n",
        "    return result\n",
        "\n",
        "optimize_weights()\n",
        "\n",
        "results = {}\n",
        "best_result = -1000\n",
        "l_results = []\n",
        "\n",
        "for threshold in np.linspace(0, 15, 30, endpoint=False):\n",
        "    results[threshold] = optimize_weights(threshold)\n",
        "    l_results.append(results[threshold].fun)\n",
        "    if results[threshold].fun > best_result :\n",
        "        best_result = results[threshold].fun\n",
        "        best_weights = results[threshold].x\n",
        "        best_threshold = threshold\n",
        "    print(threshold, results[threshold].fun, results[threshold].x)"
      ],
      "metadata": {
        "id": "nHMn-PK0tjzx"
      },
      "execution_count": null,
      "outputs": []
    },
    {
      "cell_type": "code",
      "source": [
        "sns.lineplot(l_results)\n",
        "plt.show()"
      ],
      "metadata": {
        "id": "qFR3iwJX_X_b"
      },
      "execution_count": null,
      "outputs": []
    },
    {
      "cell_type": "code",
      "source": [
        "index = (weights[0] * diff_10_30min + weights[1] * diff_20_30min + weights[2] * diff_30_30min + weights[3] * diff_40_30min + \\\n",
        "            weights[4] * diff_10_60min + weights[5] * diff_20_60min + weights[6] * diff_30_60min + weights[7] * diff_40_60min + \\\n",
        "            weights[8] * diff_10_D + weights[9] * diff_20_D + weights[10] * diff_30_D + weights[11] * diff_40_D\n",
        "            ).shift().fillna(0)\n",
        "index[threshold > np.abs(index)] = 0\n",
        "index = np.tanh(index)\n",
        "\n",
        "df['index'] = index\n",
        "df['sign_index'] = np.sign(index).replace(0, np.nan).ffill()\n",
        "df['cumsum_index'] = np.cumsum(index)\n",
        "\n",
        "fig, ax = plt.subplots(2, 2, figsize=(25, 12))\n",
        "ax2 = ax[0][0].twinx()\n",
        "# sns.lineplot(df['close_30min'].tail(100000), ax = ax1)\n",
        "sns.lineplot(data = df, x='datetime_30min', y='close_30min', ax = ax[0][0])\n",
        "sns.lineplot(data = df, x='datetime_30min', y='cumsum_index', ax = ax2, color = 'orange')\n",
        "\n",
        "sns.lineplot(data = df, x='datetime_30min', y='index', ax = ax[1][0], color = 'orange')\n",
        "\n",
        "sns.lineplot(np.cumsum(df['Log_Return'] * df['index']), ax = ax[0][1])\n",
        "sns.lineplot(np.cumsum(df['Log_Return'] * df['sign_index']), ax = ax[1][1])\n",
        "\n",
        "plt.show()"
      ],
      "metadata": {
        "id": "iysjkujcYboQ"
      },
      "execution_count": null,
      "outputs": []
    }
  ]
}