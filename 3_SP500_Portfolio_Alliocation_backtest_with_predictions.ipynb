{
  "cells": [
    {
      "cell_type": "markdown",
      "metadata": {
        "id": "view-in-github",
        "colab_type": "text"
      },
      "source": [
        "<a href=\"https://colab.research.google.com/github/alexandreib/QuantDesign/blob/main/3_SP500_Portfolio_Alliocation_backtest_with_predictions.ipynb\" target=\"_parent\"><img src=\"https://colab.research.google.com/assets/colab-badge.svg\" alt=\"Open In Colab\"/></a>"
      ]
    },
    {
      "cell_type": "markdown",
      "metadata": {
        "id": "SKQ4bH7qMGrA"
      },
      "source": [
        "# **Portfolio Optimization on S&P 500 Stocks Backtest with GBT predictions**\n",
        "\n",
        "\n",
        "## **Introduction**\n",
        "In the previous [notebook](https://medium.com/@alexandre.durand/portfolio-optimization-on-s-p-500-stocks-with-backtest-61da87ed91ff), we backtested 4 portfolio optiomization strategies :<br>\n",
        "1. Random Allocation: Simple approach with no specific optimization for risk or return; often used as a baseline, but generally less efficient in managing return-risk trade-offs.<br>\n",
        "2. Markowitz (Mean-Variance) Optimization: Balances return and risk by selecting asset weights based on expected returns and correlations, offering a robust strategy but highly dependent on accurate inputs.<br>\n",
        "3. Minimum Variance: Prioritizes reducing overall portfolio risk without aiming for high returns, making it ideal for risk-averse investors; however, it may underperform in high-return environments.<br>\n",
        "4. Sharpe Ratio Optimization: Focuses on maximizing risk-adjusted returns, providing a balanced approach between risk and return, but sensitive to the reliability of input data on returns and risk.<br><br>\n",
        "\n",
        "\n",
        "We used the previous Quater results to generate our optimized weights.\n",
        "<br><br>\n",
        "In this notebook, we will run 2 Gradient Boost Tree, to estimate the next Quarter returns for the SP500 Stocks. <br>\n",
        "Then we will rerun our backtest with the weighted optimized based on the predictions of the GBT.\n",
        "<br><br>\n",
        "Imports :\n"
      ]
    },
    {
      "cell_type": "code",
      "execution_count": 1,
      "metadata": {
        "id": "Z_sTbJcqLgeD",
        "colab": {
          "base_uri": "https://localhost:8080/"
        },
        "outputId": "ccf95e0e-7716-461c-a981-8f1012375d48"
      },
      "outputs": [
        {
          "output_type": "stream",
          "name": "stdout",
          "text": [
            "\u001b[2K   \u001b[90m━━━━━━━━━━━━━━━━━━━━━━━━━━━━━━━━━━━━━━━━\u001b[0m \u001b[32m98.7/98.7 MB\u001b[0m \u001b[31m5.6 MB/s\u001b[0m eta \u001b[36m0:00:00\u001b[0m\n",
            "\u001b[?25h"
          ]
        }
      ],
      "source": [
        "!pip install -q catboost"
      ]
    },
    {
      "cell_type": "code",
      "execution_count": 2,
      "metadata": {
        "colab": {
          "base_uri": "https://localhost:8080/"
        },
        "id": "m0-7ZhGc9ERF",
        "outputId": "f33a6523-4c4b-4119-d7ec-525433a5c7d3"
      },
      "outputs": [
        {
          "output_type": "stream",
          "name": "stderr",
          "text": [
            "/usr/local/lib/python3.10/dist-packages/dask/dataframe/__init__.py:42: FutureWarning: \n",
            "Dask dataframe query planning is disabled because dask-expr is not installed.\n",
            "\n",
            "You can install it with `pip install dask[dataframe]` or `conda install dask`.\n",
            "This will raise in a future version.\n",
            "\n",
            "  warnings.warn(msg, FutureWarning)\n"
          ]
        },
        {
          "output_type": "stream",
          "name": "stdout",
          "text": [
            "Mounted at /content/drive\n"
          ]
        }
      ],
      "source": [
        "import pandas as pd\n",
        "import numpy as np\n",
        "import seaborn as sns\n",
        "import scipy as sp\n",
        "import matplotlib.pyplot as plt\n",
        "import catboost, lightgbm\n",
        "import sklearn\n",
        "import sklearn.linear_model\n",
        "import copy\n",
        "import datetime as dt\n",
        "import tqdm\n",
        "\n",
        "from google.colab import drive\n",
        "drive.mount('/content/drive')"
      ]
    },
    {
      "cell_type": "markdown",
      "source": [
        "\n",
        "## **Prepare Data**\n",
        "\n"
      ],
      "metadata": {
        "id": "Nhoyz1sTN8-D"
      }
    },
    {
      "cell_type": "code",
      "execution_count": 3,
      "metadata": {
        "colab": {
          "base_uri": "https://localhost:8080/",
          "height": 112
        },
        "id": "R9J52CMM8XZA",
        "outputId": "32c156fe-7276-410b-b711-f31231601d6b"
      },
      "outputs": [
        {
          "output_type": "execute_result",
          "data": {
            "text/plain": [
              "         Date Ticker  Adj Close  Log_Return  Quarterly_Log_Return    target\n",
              "0  2004-11-22    MMM  37.598114         NaN                   NaN  0.043639\n",
              "1  2004-11-23    MMM  37.365273   -0.006212                   NaN  0.054013"
            ],
            "text/html": [
              "\n",
              "  <div id=\"df-2d400410-4d4b-4b5f-82bc-176e36b9f985\" class=\"colab-df-container\">\n",
              "    <div>\n",
              "<style scoped>\n",
              "    .dataframe tbody tr th:only-of-type {\n",
              "        vertical-align: middle;\n",
              "    }\n",
              "\n",
              "    .dataframe tbody tr th {\n",
              "        vertical-align: top;\n",
              "    }\n",
              "\n",
              "    .dataframe thead th {\n",
              "        text-align: right;\n",
              "    }\n",
              "</style>\n",
              "<table border=\"1\" class=\"dataframe\">\n",
              "  <thead>\n",
              "    <tr style=\"text-align: right;\">\n",
              "      <th></th>\n",
              "      <th>Date</th>\n",
              "      <th>Ticker</th>\n",
              "      <th>Adj Close</th>\n",
              "      <th>Log_Return</th>\n",
              "      <th>Quarterly_Log_Return</th>\n",
              "      <th>target</th>\n",
              "    </tr>\n",
              "  </thead>\n",
              "  <tbody>\n",
              "    <tr>\n",
              "      <th>0</th>\n",
              "      <td>2004-11-22</td>\n",
              "      <td>MMM</td>\n",
              "      <td>37.598114</td>\n",
              "      <td>NaN</td>\n",
              "      <td>NaN</td>\n",
              "      <td>0.043639</td>\n",
              "    </tr>\n",
              "    <tr>\n",
              "      <th>1</th>\n",
              "      <td>2004-11-23</td>\n",
              "      <td>MMM</td>\n",
              "      <td>37.365273</td>\n",
              "      <td>-0.006212</td>\n",
              "      <td>NaN</td>\n",
              "      <td>0.054013</td>\n",
              "    </tr>\n",
              "  </tbody>\n",
              "</table>\n",
              "</div>\n",
              "    <div class=\"colab-df-buttons\">\n",
              "\n",
              "  <div class=\"colab-df-container\">\n",
              "    <button class=\"colab-df-convert\" onclick=\"convertToInteractive('df-2d400410-4d4b-4b5f-82bc-176e36b9f985')\"\n",
              "            title=\"Convert this dataframe to an interactive table.\"\n",
              "            style=\"display:none;\">\n",
              "\n",
              "  <svg xmlns=\"http://www.w3.org/2000/svg\" height=\"24px\" viewBox=\"0 -960 960 960\">\n",
              "    <path d=\"M120-120v-720h720v720H120Zm60-500h600v-160H180v160Zm220 220h160v-160H400v160Zm0 220h160v-160H400v160ZM180-400h160v-160H180v160Zm440 0h160v-160H620v160ZM180-180h160v-160H180v160Zm440 0h160v-160H620v160Z\"/>\n",
              "  </svg>\n",
              "    </button>\n",
              "\n",
              "  <style>\n",
              "    .colab-df-container {\n",
              "      display:flex;\n",
              "      gap: 12px;\n",
              "    }\n",
              "\n",
              "    .colab-df-convert {\n",
              "      background-color: #E8F0FE;\n",
              "      border: none;\n",
              "      border-radius: 50%;\n",
              "      cursor: pointer;\n",
              "      display: none;\n",
              "      fill: #1967D2;\n",
              "      height: 32px;\n",
              "      padding: 0 0 0 0;\n",
              "      width: 32px;\n",
              "    }\n",
              "\n",
              "    .colab-df-convert:hover {\n",
              "      background-color: #E2EBFA;\n",
              "      box-shadow: 0px 1px 2px rgba(60, 64, 67, 0.3), 0px 1px 3px 1px rgba(60, 64, 67, 0.15);\n",
              "      fill: #174EA6;\n",
              "    }\n",
              "\n",
              "    .colab-df-buttons div {\n",
              "      margin-bottom: 4px;\n",
              "    }\n",
              "\n",
              "    [theme=dark] .colab-df-convert {\n",
              "      background-color: #3B4455;\n",
              "      fill: #D2E3FC;\n",
              "    }\n",
              "\n",
              "    [theme=dark] .colab-df-convert:hover {\n",
              "      background-color: #434B5C;\n",
              "      box-shadow: 0px 1px 3px 1px rgba(0, 0, 0, 0.15);\n",
              "      filter: drop-shadow(0px 1px 2px rgba(0, 0, 0, 0.3));\n",
              "      fill: #FFFFFF;\n",
              "    }\n",
              "  </style>\n",
              "\n",
              "    <script>\n",
              "      const buttonEl =\n",
              "        document.querySelector('#df-2d400410-4d4b-4b5f-82bc-176e36b9f985 button.colab-df-convert');\n",
              "      buttonEl.style.display =\n",
              "        google.colab.kernel.accessAllowed ? 'block' : 'none';\n",
              "\n",
              "      async function convertToInteractive(key) {\n",
              "        const element = document.querySelector('#df-2d400410-4d4b-4b5f-82bc-176e36b9f985');\n",
              "        const dataTable =\n",
              "          await google.colab.kernel.invokeFunction('convertToInteractive',\n",
              "                                                    [key], {});\n",
              "        if (!dataTable) return;\n",
              "\n",
              "        const docLinkHtml = 'Like what you see? Visit the ' +\n",
              "          '<a target=\"_blank\" href=https://colab.research.google.com/notebooks/data_table.ipynb>data table notebook</a>'\n",
              "          + ' to learn more about interactive tables.';\n",
              "        element.innerHTML = '';\n",
              "        dataTable['output_type'] = 'display_data';\n",
              "        await google.colab.output.renderOutput(dataTable, element);\n",
              "        const docLink = document.createElement('div');\n",
              "        docLink.innerHTML = docLinkHtml;\n",
              "        element.appendChild(docLink);\n",
              "      }\n",
              "    </script>\n",
              "  </div>\n",
              "\n",
              "\n",
              "<div id=\"df-7079eb4f-ba27-4b47-addf-b8ea47ad4e06\">\n",
              "  <button class=\"colab-df-quickchart\" onclick=\"quickchart('df-7079eb4f-ba27-4b47-addf-b8ea47ad4e06')\"\n",
              "            title=\"Suggest charts\"\n",
              "            style=\"display:none;\">\n",
              "\n",
              "<svg xmlns=\"http://www.w3.org/2000/svg\" height=\"24px\"viewBox=\"0 0 24 24\"\n",
              "     width=\"24px\">\n",
              "    <g>\n",
              "        <path d=\"M19 3H5c-1.1 0-2 .9-2 2v14c0 1.1.9 2 2 2h14c1.1 0 2-.9 2-2V5c0-1.1-.9-2-2-2zM9 17H7v-7h2v7zm4 0h-2V7h2v10zm4 0h-2v-4h2v4z\"/>\n",
              "    </g>\n",
              "</svg>\n",
              "  </button>\n",
              "\n",
              "<style>\n",
              "  .colab-df-quickchart {\n",
              "      --bg-color: #E8F0FE;\n",
              "      --fill-color: #1967D2;\n",
              "      --hover-bg-color: #E2EBFA;\n",
              "      --hover-fill-color: #174EA6;\n",
              "      --disabled-fill-color: #AAA;\n",
              "      --disabled-bg-color: #DDD;\n",
              "  }\n",
              "\n",
              "  [theme=dark] .colab-df-quickchart {\n",
              "      --bg-color: #3B4455;\n",
              "      --fill-color: #D2E3FC;\n",
              "      --hover-bg-color: #434B5C;\n",
              "      --hover-fill-color: #FFFFFF;\n",
              "      --disabled-bg-color: #3B4455;\n",
              "      --disabled-fill-color: #666;\n",
              "  }\n",
              "\n",
              "  .colab-df-quickchart {\n",
              "    background-color: var(--bg-color);\n",
              "    border: none;\n",
              "    border-radius: 50%;\n",
              "    cursor: pointer;\n",
              "    display: none;\n",
              "    fill: var(--fill-color);\n",
              "    height: 32px;\n",
              "    padding: 0;\n",
              "    width: 32px;\n",
              "  }\n",
              "\n",
              "  .colab-df-quickchart:hover {\n",
              "    background-color: var(--hover-bg-color);\n",
              "    box-shadow: 0 1px 2px rgba(60, 64, 67, 0.3), 0 1px 3px 1px rgba(60, 64, 67, 0.15);\n",
              "    fill: var(--button-hover-fill-color);\n",
              "  }\n",
              "\n",
              "  .colab-df-quickchart-complete:disabled,\n",
              "  .colab-df-quickchart-complete:disabled:hover {\n",
              "    background-color: var(--disabled-bg-color);\n",
              "    fill: var(--disabled-fill-color);\n",
              "    box-shadow: none;\n",
              "  }\n",
              "\n",
              "  .colab-df-spinner {\n",
              "    border: 2px solid var(--fill-color);\n",
              "    border-color: transparent;\n",
              "    border-bottom-color: var(--fill-color);\n",
              "    animation:\n",
              "      spin 1s steps(1) infinite;\n",
              "  }\n",
              "\n",
              "  @keyframes spin {\n",
              "    0% {\n",
              "      border-color: transparent;\n",
              "      border-bottom-color: var(--fill-color);\n",
              "      border-left-color: var(--fill-color);\n",
              "    }\n",
              "    20% {\n",
              "      border-color: transparent;\n",
              "      border-left-color: var(--fill-color);\n",
              "      border-top-color: var(--fill-color);\n",
              "    }\n",
              "    30% {\n",
              "      border-color: transparent;\n",
              "      border-left-color: var(--fill-color);\n",
              "      border-top-color: var(--fill-color);\n",
              "      border-right-color: var(--fill-color);\n",
              "    }\n",
              "    40% {\n",
              "      border-color: transparent;\n",
              "      border-right-color: var(--fill-color);\n",
              "      border-top-color: var(--fill-color);\n",
              "    }\n",
              "    60% {\n",
              "      border-color: transparent;\n",
              "      border-right-color: var(--fill-color);\n",
              "    }\n",
              "    80% {\n",
              "      border-color: transparent;\n",
              "      border-right-color: var(--fill-color);\n",
              "      border-bottom-color: var(--fill-color);\n",
              "    }\n",
              "    90% {\n",
              "      border-color: transparent;\n",
              "      border-bottom-color: var(--fill-color);\n",
              "    }\n",
              "  }\n",
              "</style>\n",
              "\n",
              "  <script>\n",
              "    async function quickchart(key) {\n",
              "      const quickchartButtonEl =\n",
              "        document.querySelector('#' + key + ' button');\n",
              "      quickchartButtonEl.disabled = true;  // To prevent multiple clicks.\n",
              "      quickchartButtonEl.classList.add('colab-df-spinner');\n",
              "      try {\n",
              "        const charts = await google.colab.kernel.invokeFunction(\n",
              "            'suggestCharts', [key], {});\n",
              "      } catch (error) {\n",
              "        console.error('Error during call to suggestCharts:', error);\n",
              "      }\n",
              "      quickchartButtonEl.classList.remove('colab-df-spinner');\n",
              "      quickchartButtonEl.classList.add('colab-df-quickchart-complete');\n",
              "    }\n",
              "    (() => {\n",
              "      let quickchartButtonEl =\n",
              "        document.querySelector('#df-7079eb4f-ba27-4b47-addf-b8ea47ad4e06 button');\n",
              "      quickchartButtonEl.style.display =\n",
              "        google.colab.kernel.accessAllowed ? 'block' : 'none';\n",
              "    })();\n",
              "  </script>\n",
              "</div>\n",
              "    </div>\n",
              "  </div>\n"
            ],
            "application/vnd.google.colaboratory.intrinsic+json": {
              "type": "dataframe",
              "variable_name": "df"
            }
          },
          "metadata": {},
          "execution_count": 3
        }
      ],
      "source": [
        "df = pd.read_csv('/content/drive/MyDrive/QuantDesign/Articles/Portfolio Optimization/sp500_20years.csv')\n",
        "\n",
        "# Calculate daily log returns\n",
        "df['Log_Return'] = np.log(df['Adj Close'] / df['Adj Close'].shift(1))\n",
        "\n",
        "# # Calculate quarterly log returns Using the first advantage of log Rturns : Tie Additivity\n",
        "# days before rebalancing :\n",
        "days = 63\n",
        "df['Quarterly_Log_Return'] = df.groupby('Ticker')['Log_Return'].rolling(window=days, min_periods=days).sum().reset_index(0, drop=True)\n",
        "\n",
        "df['target'] = df['Quarterly_Log_Return'].shift(-days)\n",
        "df.head(2)"
      ]
    },
    {
      "cell_type": "markdown",
      "metadata": {
        "id": "vfUGUHeMKwi7"
      },
      "source": [
        "## Features Creation"
      ]
    },
    {
      "cell_type": "code",
      "execution_count": 4,
      "metadata": {
        "colab": {
          "base_uri": "https://localhost:8080/",
          "height": 165
        },
        "id": "ZfC_SWXbFf1U",
        "outputId": "f3576691-6efe-4293-f324-f1a7848002f4"
      },
      "outputs": [
        {
          "output_type": "execute_result",
          "data": {
            "text/plain": [
              "         Date Ticker  Adj Close  Log_Return  Quarterly_Log_Return    target  \\\n",
              "0  2004-11-22    MMM  37.598114         NaN                   NaN  0.043639   \n",
              "\n",
              "   RSI  MACD  Signal_Line  change_sign_cumsum  ...  \\\n",
              "0  NaN   0.0          0.0                 NaN  ...   \n",
              "\n",
              "   Quarter_zscore_Quarterly_Log_Return_Min  \\\n",
              "0                                      NaN   \n",
              "\n",
              "   Quarter_zscore_Quarterly_Log_Return_Max  \\\n",
              "0                                      NaN   \n",
              "\n",
              "   Quarter_zscore_Quarterly_Log_Return_Mean  \\\n",
              "0                                       NaN   \n",
              "\n",
              "   Quarter_zscore_Quarterly_Log_Return_Std  \\\n",
              "0                                      NaN   \n",
              "\n",
              "   Quarter_zscore_Quarterly_Log_Return_Sum  Quarter_Quarterly_Log_Return_Min  \\\n",
              "0                                      NaN                               NaN   \n",
              "\n",
              "   Quarter_Quarterly_Log_Return_Max  Quarter_Quarterly_Log_Return_Mean  \\\n",
              "0                               NaN                                NaN   \n",
              "\n",
              "   Quarter_Quarterly_Log_Return_Std  Quarter_Quarterly_Log_Return_Sum  \n",
              "0                               NaN                               NaN  \n",
              "\n",
              "[1 rows x 50 columns]"
            ],
            "text/html": [
              "\n",
              "  <div id=\"df-1c69c792-37f4-4c92-a9f2-cdd015e3ba60\" class=\"colab-df-container\">\n",
              "    <div>\n",
              "<style scoped>\n",
              "    .dataframe tbody tr th:only-of-type {\n",
              "        vertical-align: middle;\n",
              "    }\n",
              "\n",
              "    .dataframe tbody tr th {\n",
              "        vertical-align: top;\n",
              "    }\n",
              "\n",
              "    .dataframe thead th {\n",
              "        text-align: right;\n",
              "    }\n",
              "</style>\n",
              "<table border=\"1\" class=\"dataframe\">\n",
              "  <thead>\n",
              "    <tr style=\"text-align: right;\">\n",
              "      <th></th>\n",
              "      <th>Date</th>\n",
              "      <th>Ticker</th>\n",
              "      <th>Adj Close</th>\n",
              "      <th>Log_Return</th>\n",
              "      <th>Quarterly_Log_Return</th>\n",
              "      <th>target</th>\n",
              "      <th>RSI</th>\n",
              "      <th>MACD</th>\n",
              "      <th>Signal_Line</th>\n",
              "      <th>change_sign_cumsum</th>\n",
              "      <th>...</th>\n",
              "      <th>Quarter_zscore_Quarterly_Log_Return_Min</th>\n",
              "      <th>Quarter_zscore_Quarterly_Log_Return_Max</th>\n",
              "      <th>Quarter_zscore_Quarterly_Log_Return_Mean</th>\n",
              "      <th>Quarter_zscore_Quarterly_Log_Return_Std</th>\n",
              "      <th>Quarter_zscore_Quarterly_Log_Return_Sum</th>\n",
              "      <th>Quarter_Quarterly_Log_Return_Min</th>\n",
              "      <th>Quarter_Quarterly_Log_Return_Max</th>\n",
              "      <th>Quarter_Quarterly_Log_Return_Mean</th>\n",
              "      <th>Quarter_Quarterly_Log_Return_Std</th>\n",
              "      <th>Quarter_Quarterly_Log_Return_Sum</th>\n",
              "    </tr>\n",
              "  </thead>\n",
              "  <tbody>\n",
              "    <tr>\n",
              "      <th>0</th>\n",
              "      <td>2004-11-22</td>\n",
              "      <td>MMM</td>\n",
              "      <td>37.598114</td>\n",
              "      <td>NaN</td>\n",
              "      <td>NaN</td>\n",
              "      <td>0.043639</td>\n",
              "      <td>NaN</td>\n",
              "      <td>0.0</td>\n",
              "      <td>0.0</td>\n",
              "      <td>NaN</td>\n",
              "      <td>...</td>\n",
              "      <td>NaN</td>\n",
              "      <td>NaN</td>\n",
              "      <td>NaN</td>\n",
              "      <td>NaN</td>\n",
              "      <td>NaN</td>\n",
              "      <td>NaN</td>\n",
              "      <td>NaN</td>\n",
              "      <td>NaN</td>\n",
              "      <td>NaN</td>\n",
              "      <td>NaN</td>\n",
              "    </tr>\n",
              "  </tbody>\n",
              "</table>\n",
              "<p>1 rows × 50 columns</p>\n",
              "</div>\n",
              "    <div class=\"colab-df-buttons\">\n",
              "\n",
              "  <div class=\"colab-df-container\">\n",
              "    <button class=\"colab-df-convert\" onclick=\"convertToInteractive('df-1c69c792-37f4-4c92-a9f2-cdd015e3ba60')\"\n",
              "            title=\"Convert this dataframe to an interactive table.\"\n",
              "            style=\"display:none;\">\n",
              "\n",
              "  <svg xmlns=\"http://www.w3.org/2000/svg\" height=\"24px\" viewBox=\"0 -960 960 960\">\n",
              "    <path d=\"M120-120v-720h720v720H120Zm60-500h600v-160H180v160Zm220 220h160v-160H400v160Zm0 220h160v-160H400v160ZM180-400h160v-160H180v160Zm440 0h160v-160H620v160ZM180-180h160v-160H180v160Zm440 0h160v-160H620v160Z\"/>\n",
              "  </svg>\n",
              "    </button>\n",
              "\n",
              "  <style>\n",
              "    .colab-df-container {\n",
              "      display:flex;\n",
              "      gap: 12px;\n",
              "    }\n",
              "\n",
              "    .colab-df-convert {\n",
              "      background-color: #E8F0FE;\n",
              "      border: none;\n",
              "      border-radius: 50%;\n",
              "      cursor: pointer;\n",
              "      display: none;\n",
              "      fill: #1967D2;\n",
              "      height: 32px;\n",
              "      padding: 0 0 0 0;\n",
              "      width: 32px;\n",
              "    }\n",
              "\n",
              "    .colab-df-convert:hover {\n",
              "      background-color: #E2EBFA;\n",
              "      box-shadow: 0px 1px 2px rgba(60, 64, 67, 0.3), 0px 1px 3px 1px rgba(60, 64, 67, 0.15);\n",
              "      fill: #174EA6;\n",
              "    }\n",
              "\n",
              "    .colab-df-buttons div {\n",
              "      margin-bottom: 4px;\n",
              "    }\n",
              "\n",
              "    [theme=dark] .colab-df-convert {\n",
              "      background-color: #3B4455;\n",
              "      fill: #D2E3FC;\n",
              "    }\n",
              "\n",
              "    [theme=dark] .colab-df-convert:hover {\n",
              "      background-color: #434B5C;\n",
              "      box-shadow: 0px 1px 3px 1px rgba(0, 0, 0, 0.15);\n",
              "      filter: drop-shadow(0px 1px 2px rgba(0, 0, 0, 0.3));\n",
              "      fill: #FFFFFF;\n",
              "    }\n",
              "  </style>\n",
              "\n",
              "    <script>\n",
              "      const buttonEl =\n",
              "        document.querySelector('#df-1c69c792-37f4-4c92-a9f2-cdd015e3ba60 button.colab-df-convert');\n",
              "      buttonEl.style.display =\n",
              "        google.colab.kernel.accessAllowed ? 'block' : 'none';\n",
              "\n",
              "      async function convertToInteractive(key) {\n",
              "        const element = document.querySelector('#df-1c69c792-37f4-4c92-a9f2-cdd015e3ba60');\n",
              "        const dataTable =\n",
              "          await google.colab.kernel.invokeFunction('convertToInteractive',\n",
              "                                                    [key], {});\n",
              "        if (!dataTable) return;\n",
              "\n",
              "        const docLinkHtml = 'Like what you see? Visit the ' +\n",
              "          '<a target=\"_blank\" href=https://colab.research.google.com/notebooks/data_table.ipynb>data table notebook</a>'\n",
              "          + ' to learn more about interactive tables.';\n",
              "        element.innerHTML = '';\n",
              "        dataTable['output_type'] = 'display_data';\n",
              "        await google.colab.output.renderOutput(dataTable, element);\n",
              "        const docLink = document.createElement('div');\n",
              "        docLink.innerHTML = docLinkHtml;\n",
              "        element.appendChild(docLink);\n",
              "      }\n",
              "    </script>\n",
              "  </div>\n",
              "\n",
              "    </div>\n",
              "  </div>\n"
            ],
            "application/vnd.google.colaboratory.intrinsic+json": {
              "type": "dataframe",
              "variable_name": "df"
            }
          },
          "metadata": {},
          "execution_count": 4
        }
      ],
      "source": [
        "# Calculate Daily Features :\n",
        "# Calculate RSI (Relative Strength Index)\n",
        "delta = df.groupby('Ticker')['Adj Close'].diff()\n",
        "gain = delta.where(delta > 0, 0)\n",
        "loss = -delta.where(delta < 0, 0)\n",
        "avg_gain = gain.rolling(window=14).mean()\n",
        "avg_loss = loss.rolling(window=14).mean()\n",
        "rs = avg_gain / avg_loss\n",
        "df.loc[:, 'RSI'] = 100 - (100 / (1 + rs))\n",
        "\n",
        "# Calculate MACD (Moving Average Convergence Divergence)\n",
        "EMA12 = df.groupby('Ticker', group_keys = False)['Adj Close'].apply(lambda x: x.ewm(span=12).mean())\n",
        "EMA26 = df.groupby('Ticker', group_keys = False)['Adj Close'].apply(lambda x: x.ewm(span=26).mean())\n",
        "df.loc[:, 'MACD'] = EMA12 - EMA26\n",
        "df.loc[:, 'Signal_Line'] = df.groupby('Ticker', group_keys = False)['MACD'].apply(lambda x: x.ewm(span=9, adjust=False).mean())\n",
        "\n",
        "# Calculate cumsum\n",
        "df = df.assign(change_sign_cumsum = (np.sign(df.Log_Return) != np.sign(df.Log_Return.shift())).cumsum())\n",
        "df['change_sign_cumsum'] = df.groupby('change_sign_cumsum')['Log_Return'].cumsum()\n",
        "\n",
        "# Calculate Daily Informations\n",
        "for col in ['Log_Return', 'Quarterly_Log_Return'] :\n",
        "    df.loc[:, f'Date_{col}_std'] = df['Date'].map(df.groupby('Date', group_keys = False)[col].std())\n",
        "    df.loc[:, f'Date_{col}_mean'] = df['Date'].map(df.groupby('Date', group_keys = False)[col].mean())\n",
        "    df.loc[:, f'Date_{col}_min'] = df['Date'].map(df.groupby('Date', group_keys = False)[col].min())\n",
        "    df.loc[:, f'Date_{col}_max'] = df['Date'].map(df.groupby('Date', group_keys = False)[col].max())\n",
        "\n",
        "for col in ['Log_Return', 'Quarterly_Log_Return'] :\n",
        "    df.loc[:, f'zscore_{col}'] = (df['Log_Return'] - df[f'Date_{col}_mean']) / df[f'Date_{col}_std']\n",
        "\n",
        "# Calculate Quaterly Infos\n",
        "for col in ['Date_Log_Return_mean', 'Log_Return', 'change_sign_cumsum', 'zscore_Log_Return','zscore_Quarterly_Log_Return', 'Quarterly_Log_Return'] :\n",
        "    df.loc[:, f'Quarter_{col}_Min'] = df.groupby('Ticker', group_keys = False)[col].apply(lambda x: x.rolling(window=days, min_periods=days).min())\n",
        "    df.loc[:, f'Quarter_{col}_Max'] = df.groupby('Ticker', group_keys = False)[col].apply(lambda x: x.rolling(window=days, min_periods=days).max())\n",
        "    df.loc[:, f'Quarter_{col}_Mean'] = df.groupby('Ticker', group_keys = False)[col].apply(lambda x: x.rolling(window=days, min_periods=days).mean())\n",
        "    df.loc[:, f'Quarter_{col}_Std'] = df.groupby('Ticker', group_keys = False)[col].apply(lambda x: x.rolling(window=days, min_periods=days).std())\n",
        "    df.loc[:, f'Quarter_{col}_Sum'] = df.groupby('Ticker', group_keys = False)[col].apply(lambda x: x.rolling(window=days, min_periods=days).sum())\n",
        "\n",
        "df = df.dropna(subset = ['target'])\n",
        "df.head(1)"
      ]
    },
    {
      "cell_type": "markdown",
      "source": [
        "## Label Encoders for the tickers"
      ],
      "metadata": {
        "id": "lcxBjCupOP-q"
      }
    },
    {
      "cell_type": "code",
      "source": [
        "LabelEncoder =  { x : i for i, x in enumerate(df['Ticker'].unique())}\n",
        "LabelDecoder =  { v : k for k, v in LabelEncoder.items()}\n",
        "df['Ticker'] = df['Ticker'].map(LabelEncoder)\n"
      ],
      "metadata": {
        "id": "lTjZr-QVOPip"
      },
      "execution_count": 5,
      "outputs": []
    },
    {
      "cell_type": "markdown",
      "source": [
        "## Split DataFrame\n",
        "\n",
        "To backtest our portfolio optimization, we will split on dataframe.\n",
        "<br><br>\n",
        "We will use the date columns ot split the data :<br>\n",
        "- Train dataframe : We will use to train the Machine Learninbg Algorithms (GBT).<br>\n",
        "- Valid dataframe : We will the valid dataframe, to measure the results of the machine learning algortihtms (GBT), detect overfitt, and to calculate the Covariance Matrice.<br>\n",
        "- Test dataframe : used for the Backtest.<br>\n",
        "<br>\n",
        "\n",
        "For the test dataset we keep 1 rebalancing every 63 days.<br>\n",
        "We don't do the same for train and valid dataset, on the assumption that more data will help the GBT models, and keep unbiased estiamtes.<br>"
      ],
      "metadata": {
        "id": "jzKxGtEUON4f"
      }
    },
    {
      "cell_type": "code",
      "execution_count": 6,
      "metadata": {
        "colab": {
          "base_uri": "https://localhost:8080/",
          "height": 251
        },
        "id": "63-Hl4g6Kwi-",
        "outputId": "95bc5f0f-2b65-4f01-8995-463c69eb0c18"
      },
      "outputs": [
        {
          "output_type": "display_data",
          "data": {
            "text/plain": [
              "            Date  Ticker   Adj Close  Log_Return  Quarterly_Log_Return  \\\n",
              "4222  2021-08-31       0  141.965195   -0.007316             -0.035364   \n",
              "4285  2021-11-30       0  124.967705   -0.035756             -0.127527   \n",
              "\n",
              "        target        RSI      MACD  Signal_Line  change_sign_cumsum  ...  \\\n",
              "4222 -0.127527  31.958487 -0.543483    -0.443756           -0.007316  ...   \n",
              "4285 -0.134485  27.820983 -0.947440    -0.281207           -0.035756  ...   \n",
              "\n",
              "      Quarter_zscore_Quarterly_Log_Return_Min  \\\n",
              "4222                                -1.159729   \n",
              "4285                                -0.560819   \n",
              "\n",
              "      Quarter_zscore_Quarterly_Log_Return_Max  \\\n",
              "4222                                -0.132465   \n",
              "4285                                 0.075599   \n",
              "\n",
              "      Quarter_zscore_Quarterly_Log_Return_Mean  \\\n",
              "4222                                 -0.462189   \n",
              "4285                                 -0.291289   \n",
              "\n",
              "      Quarter_zscore_Quarterly_Log_Return_Std  \\\n",
              "4222                                 0.236802   \n",
              "4285                                 0.151749   \n",
              "\n",
              "      Quarter_zscore_Quarterly_Log_Return_Sum  \\\n",
              "4222                               -29.117876   \n",
              "4285                               -18.351178   \n",
              "\n",
              "      Quarter_Quarterly_Log_Return_Min  Quarter_Quarterly_Log_Return_Max  \\\n",
              "4222                         -0.041596                          0.144130   \n",
              "4285                         -0.136953                         -0.039325   \n",
              "\n",
              "      Quarter_Quarterly_Log_Return_Mean  Quarter_Quarterly_Log_Return_Std  \\\n",
              "4222                           0.019867                          0.043545   \n",
              "4285                          -0.084786                          0.021027   \n",
              "\n",
              "      Quarter_Quarterly_Log_Return_Sum  \n",
              "4222                          1.251650  \n",
              "4285                         -5.341549  \n",
              "\n",
              "[2 rows x 50 columns]"
            ],
            "text/html": [
              "\n",
              "  <div id=\"df-bd6f6acc-bb7e-4844-818d-19f5572d367b\" class=\"colab-df-container\">\n",
              "    <div>\n",
              "<style scoped>\n",
              "    .dataframe tbody tr th:only-of-type {\n",
              "        vertical-align: middle;\n",
              "    }\n",
              "\n",
              "    .dataframe tbody tr th {\n",
              "        vertical-align: top;\n",
              "    }\n",
              "\n",
              "    .dataframe thead th {\n",
              "        text-align: right;\n",
              "    }\n",
              "</style>\n",
              "<table border=\"1\" class=\"dataframe\">\n",
              "  <thead>\n",
              "    <tr style=\"text-align: right;\">\n",
              "      <th></th>\n",
              "      <th>Date</th>\n",
              "      <th>Ticker</th>\n",
              "      <th>Adj Close</th>\n",
              "      <th>Log_Return</th>\n",
              "      <th>Quarterly_Log_Return</th>\n",
              "      <th>target</th>\n",
              "      <th>RSI</th>\n",
              "      <th>MACD</th>\n",
              "      <th>Signal_Line</th>\n",
              "      <th>change_sign_cumsum</th>\n",
              "      <th>...</th>\n",
              "      <th>Quarter_zscore_Quarterly_Log_Return_Min</th>\n",
              "      <th>Quarter_zscore_Quarterly_Log_Return_Max</th>\n",
              "      <th>Quarter_zscore_Quarterly_Log_Return_Mean</th>\n",
              "      <th>Quarter_zscore_Quarterly_Log_Return_Std</th>\n",
              "      <th>Quarter_zscore_Quarterly_Log_Return_Sum</th>\n",
              "      <th>Quarter_Quarterly_Log_Return_Min</th>\n",
              "      <th>Quarter_Quarterly_Log_Return_Max</th>\n",
              "      <th>Quarter_Quarterly_Log_Return_Mean</th>\n",
              "      <th>Quarter_Quarterly_Log_Return_Std</th>\n",
              "      <th>Quarter_Quarterly_Log_Return_Sum</th>\n",
              "    </tr>\n",
              "  </thead>\n",
              "  <tbody>\n",
              "    <tr>\n",
              "      <th>4222</th>\n",
              "      <td>2021-08-31</td>\n",
              "      <td>0</td>\n",
              "      <td>141.965195</td>\n",
              "      <td>-0.007316</td>\n",
              "      <td>-0.035364</td>\n",
              "      <td>-0.127527</td>\n",
              "      <td>31.958487</td>\n",
              "      <td>-0.543483</td>\n",
              "      <td>-0.443756</td>\n",
              "      <td>-0.007316</td>\n",
              "      <td>...</td>\n",
              "      <td>-1.159729</td>\n",
              "      <td>-0.132465</td>\n",
              "      <td>-0.462189</td>\n",
              "      <td>0.236802</td>\n",
              "      <td>-29.117876</td>\n",
              "      <td>-0.041596</td>\n",
              "      <td>0.144130</td>\n",
              "      <td>0.019867</td>\n",
              "      <td>0.043545</td>\n",
              "      <td>1.251650</td>\n",
              "    </tr>\n",
              "    <tr>\n",
              "      <th>4285</th>\n",
              "      <td>2021-11-30</td>\n",
              "      <td>0</td>\n",
              "      <td>124.967705</td>\n",
              "      <td>-0.035756</td>\n",
              "      <td>-0.127527</td>\n",
              "      <td>-0.134485</td>\n",
              "      <td>27.820983</td>\n",
              "      <td>-0.947440</td>\n",
              "      <td>-0.281207</td>\n",
              "      <td>-0.035756</td>\n",
              "      <td>...</td>\n",
              "      <td>-0.560819</td>\n",
              "      <td>0.075599</td>\n",
              "      <td>-0.291289</td>\n",
              "      <td>0.151749</td>\n",
              "      <td>-18.351178</td>\n",
              "      <td>-0.136953</td>\n",
              "      <td>-0.039325</td>\n",
              "      <td>-0.084786</td>\n",
              "      <td>0.021027</td>\n",
              "      <td>-5.341549</td>\n",
              "    </tr>\n",
              "  </tbody>\n",
              "</table>\n",
              "<p>2 rows × 50 columns</p>\n",
              "</div>\n",
              "    <div class=\"colab-df-buttons\">\n",
              "\n",
              "  <div class=\"colab-df-container\">\n",
              "    <button class=\"colab-df-convert\" onclick=\"convertToInteractive('df-bd6f6acc-bb7e-4844-818d-19f5572d367b')\"\n",
              "            title=\"Convert this dataframe to an interactive table.\"\n",
              "            style=\"display:none;\">\n",
              "\n",
              "  <svg xmlns=\"http://www.w3.org/2000/svg\" height=\"24px\" viewBox=\"0 -960 960 960\">\n",
              "    <path d=\"M120-120v-720h720v720H120Zm60-500h600v-160H180v160Zm220 220h160v-160H400v160Zm0 220h160v-160H400v160ZM180-400h160v-160H180v160Zm440 0h160v-160H620v160ZM180-180h160v-160H180v160Zm440 0h160v-160H620v160Z\"/>\n",
              "  </svg>\n",
              "    </button>\n",
              "\n",
              "  <style>\n",
              "    .colab-df-container {\n",
              "      display:flex;\n",
              "      gap: 12px;\n",
              "    }\n",
              "\n",
              "    .colab-df-convert {\n",
              "      background-color: #E8F0FE;\n",
              "      border: none;\n",
              "      border-radius: 50%;\n",
              "      cursor: pointer;\n",
              "      display: none;\n",
              "      fill: #1967D2;\n",
              "      height: 32px;\n",
              "      padding: 0 0 0 0;\n",
              "      width: 32px;\n",
              "    }\n",
              "\n",
              "    .colab-df-convert:hover {\n",
              "      background-color: #E2EBFA;\n",
              "      box-shadow: 0px 1px 2px rgba(60, 64, 67, 0.3), 0px 1px 3px 1px rgba(60, 64, 67, 0.15);\n",
              "      fill: #174EA6;\n",
              "    }\n",
              "\n",
              "    .colab-df-buttons div {\n",
              "      margin-bottom: 4px;\n",
              "    }\n",
              "\n",
              "    [theme=dark] .colab-df-convert {\n",
              "      background-color: #3B4455;\n",
              "      fill: #D2E3FC;\n",
              "    }\n",
              "\n",
              "    [theme=dark] .colab-df-convert:hover {\n",
              "      background-color: #434B5C;\n",
              "      box-shadow: 0px 1px 3px 1px rgba(0, 0, 0, 0.15);\n",
              "      filter: drop-shadow(0px 1px 2px rgba(0, 0, 0, 0.3));\n",
              "      fill: #FFFFFF;\n",
              "    }\n",
              "  </style>\n",
              "\n",
              "    <script>\n",
              "      const buttonEl =\n",
              "        document.querySelector('#df-bd6f6acc-bb7e-4844-818d-19f5572d367b button.colab-df-convert');\n",
              "      buttonEl.style.display =\n",
              "        google.colab.kernel.accessAllowed ? 'block' : 'none';\n",
              "\n",
              "      async function convertToInteractive(key) {\n",
              "        const element = document.querySelector('#df-bd6f6acc-bb7e-4844-818d-19f5572d367b');\n",
              "        const dataTable =\n",
              "          await google.colab.kernel.invokeFunction('convertToInteractive',\n",
              "                                                    [key], {});\n",
              "        if (!dataTable) return;\n",
              "\n",
              "        const docLinkHtml = 'Like what you see? Visit the ' +\n",
              "          '<a target=\"_blank\" href=https://colab.research.google.com/notebooks/data_table.ipynb>data table notebook</a>'\n",
              "          + ' to learn more about interactive tables.';\n",
              "        element.innerHTML = '';\n",
              "        dataTable['output_type'] = 'display_data';\n",
              "        await google.colab.output.renderOutput(dataTable, element);\n",
              "        const docLink = document.createElement('div');\n",
              "        docLink.innerHTML = docLinkHtml;\n",
              "        element.appendChild(docLink);\n",
              "      }\n",
              "    </script>\n",
              "  </div>\n",
              "\n",
              "\n",
              "<div id=\"df-dae57ded-8d1e-45b9-9b25-719cc80df63a\">\n",
              "  <button class=\"colab-df-quickchart\" onclick=\"quickchart('df-dae57ded-8d1e-45b9-9b25-719cc80df63a')\"\n",
              "            title=\"Suggest charts\"\n",
              "            style=\"display:none;\">\n",
              "\n",
              "<svg xmlns=\"http://www.w3.org/2000/svg\" height=\"24px\"viewBox=\"0 0 24 24\"\n",
              "     width=\"24px\">\n",
              "    <g>\n",
              "        <path d=\"M19 3H5c-1.1 0-2 .9-2 2v14c0 1.1.9 2 2 2h14c1.1 0 2-.9 2-2V5c0-1.1-.9-2-2-2zM9 17H7v-7h2v7zm4 0h-2V7h2v10zm4 0h-2v-4h2v4z\"/>\n",
              "    </g>\n",
              "</svg>\n",
              "  </button>\n",
              "\n",
              "<style>\n",
              "  .colab-df-quickchart {\n",
              "      --bg-color: #E8F0FE;\n",
              "      --fill-color: #1967D2;\n",
              "      --hover-bg-color: #E2EBFA;\n",
              "      --hover-fill-color: #174EA6;\n",
              "      --disabled-fill-color: #AAA;\n",
              "      --disabled-bg-color: #DDD;\n",
              "  }\n",
              "\n",
              "  [theme=dark] .colab-df-quickchart {\n",
              "      --bg-color: #3B4455;\n",
              "      --fill-color: #D2E3FC;\n",
              "      --hover-bg-color: #434B5C;\n",
              "      --hover-fill-color: #FFFFFF;\n",
              "      --disabled-bg-color: #3B4455;\n",
              "      --disabled-fill-color: #666;\n",
              "  }\n",
              "\n",
              "  .colab-df-quickchart {\n",
              "    background-color: var(--bg-color);\n",
              "    border: none;\n",
              "    border-radius: 50%;\n",
              "    cursor: pointer;\n",
              "    display: none;\n",
              "    fill: var(--fill-color);\n",
              "    height: 32px;\n",
              "    padding: 0;\n",
              "    width: 32px;\n",
              "  }\n",
              "\n",
              "  .colab-df-quickchart:hover {\n",
              "    background-color: var(--hover-bg-color);\n",
              "    box-shadow: 0 1px 2px rgba(60, 64, 67, 0.3), 0 1px 3px 1px rgba(60, 64, 67, 0.15);\n",
              "    fill: var(--button-hover-fill-color);\n",
              "  }\n",
              "\n",
              "  .colab-df-quickchart-complete:disabled,\n",
              "  .colab-df-quickchart-complete:disabled:hover {\n",
              "    background-color: var(--disabled-bg-color);\n",
              "    fill: var(--disabled-fill-color);\n",
              "    box-shadow: none;\n",
              "  }\n",
              "\n",
              "  .colab-df-spinner {\n",
              "    border: 2px solid var(--fill-color);\n",
              "    border-color: transparent;\n",
              "    border-bottom-color: var(--fill-color);\n",
              "    animation:\n",
              "      spin 1s steps(1) infinite;\n",
              "  }\n",
              "\n",
              "  @keyframes spin {\n",
              "    0% {\n",
              "      border-color: transparent;\n",
              "      border-bottom-color: var(--fill-color);\n",
              "      border-left-color: var(--fill-color);\n",
              "    }\n",
              "    20% {\n",
              "      border-color: transparent;\n",
              "      border-left-color: var(--fill-color);\n",
              "      border-top-color: var(--fill-color);\n",
              "    }\n",
              "    30% {\n",
              "      border-color: transparent;\n",
              "      border-left-color: var(--fill-color);\n",
              "      border-top-color: var(--fill-color);\n",
              "      border-right-color: var(--fill-color);\n",
              "    }\n",
              "    40% {\n",
              "      border-color: transparent;\n",
              "      border-right-color: var(--fill-color);\n",
              "      border-top-color: var(--fill-color);\n",
              "    }\n",
              "    60% {\n",
              "      border-color: transparent;\n",
              "      border-right-color: var(--fill-color);\n",
              "    }\n",
              "    80% {\n",
              "      border-color: transparent;\n",
              "      border-right-color: var(--fill-color);\n",
              "      border-bottom-color: var(--fill-color);\n",
              "    }\n",
              "    90% {\n",
              "      border-color: transparent;\n",
              "      border-bottom-color: var(--fill-color);\n",
              "    }\n",
              "  }\n",
              "</style>\n",
              "\n",
              "  <script>\n",
              "    async function quickchart(key) {\n",
              "      const quickchartButtonEl =\n",
              "        document.querySelector('#' + key + ' button');\n",
              "      quickchartButtonEl.disabled = true;  // To prevent multiple clicks.\n",
              "      quickchartButtonEl.classList.add('colab-df-spinner');\n",
              "      try {\n",
              "        const charts = await google.colab.kernel.invokeFunction(\n",
              "            'suggestCharts', [key], {});\n",
              "      } catch (error) {\n",
              "        console.error('Error during call to suggestCharts:', error);\n",
              "      }\n",
              "      quickchartButtonEl.classList.remove('colab-df-spinner');\n",
              "      quickchartButtonEl.classList.add('colab-df-quickchart-complete');\n",
              "    }\n",
              "    (() => {\n",
              "      let quickchartButtonEl =\n",
              "        document.querySelector('#df-dae57ded-8d1e-45b9-9b25-719cc80df63a button');\n",
              "      quickchartButtonEl.style.display =\n",
              "        google.colab.kernel.accessAllowed ? 'block' : 'none';\n",
              "    })();\n",
              "  </script>\n",
              "</div>\n",
              "    </div>\n",
              "  </div>\n"
            ],
            "application/vnd.google.colaboratory.intrinsic+json": {
              "type": "dataframe"
            }
          },
          "metadata": {}
        },
        {
          "output_type": "stream",
          "name": "stdout",
          "text": [
            "train : 1539783 : 2004-11-22 -> 2018-09-13\n",
            "valid : 364500 : 2018-09-14 -> 2021-08-30\n",
            "test : 5942 : 2021-08-31 -> 2024-06-04\n"
          ]
        }
      ],
      "source": [
        "dates = list(df['Date'].unique())\n",
        "\n",
        "dates_train = dates[:int(len(dates) * 0.7)]\n",
        "dates_valid = dates[int(len(dates) * 0.7) : int(len(dates) * 0.85)]\n",
        "dates_test = dates[int(len(dates) * 0.85):][0::days] ## Keep 1 rebalancing very 63 days\n",
        "\n",
        "train = df[df['Date'].isin(dates_train)]\n",
        "valid = df[df['Date'].isin(dates_valid)]\n",
        "test = df[df['Date'].isin(dates_test)]\n",
        "display(test.head(2))\n",
        "\n",
        "print(f\"train : {len(train)} : {train['Date'].min()} -> {train['Date'].max()}\")\n",
        "print(f\"valid : {len(valid)} : {valid['Date'].min()} -> {valid['Date'].max()}\")\n",
        "print(f\"test : {len(test)} : {test['Date'].min()} -> {test['Date'].max()}\")\n",
        "\n",
        "l_features = [col for col in train.columns if col not in ['Date', 'Adj Close', 'target']]\n",
        "\n",
        "Y_train = train['target'].values\n",
        "Y_valid = valid['target'].values\n",
        "Y_test = test['target'].values\n",
        "\n",
        "del df\n",
        "\n",
        "train = train.fillna(train[l_features].mean())\n",
        "valid = valid.fillna(train[l_features].mean())\n",
        "test = test.fillna(train[l_features].mean())"
      ]
    },
    {
      "cell_type": "markdown",
      "source": [
        "## Lightgbm Train and Predict on Valid data"
      ],
      "metadata": {
        "id": "OoczsMfOO3sa"
      }
    },
    {
      "cell_type": "code",
      "execution_count": 7,
      "metadata": {
        "id": "6es2y71wKwi_",
        "colab": {
          "base_uri": "https://localhost:8080/"
        },
        "outputId": "c0ef4794-f08d-47e2-bf5f-23a8264f862d"
      },
      "outputs": [
        {
          "output_type": "stream",
          "name": "stdout",
          "text": [
            "[LightGBM] [Warning] Categorical features with more bins than the configured maximum bin number found.\n",
            "[LightGBM] [Warning] For categorical features, max_bin and max_bin_by_feature may be ignored with a large number of categories.\n",
            "[LightGBM] [Info] Auto-choosing row-wise multi-threading, the overhead of testing was 0.245065 seconds.\n",
            "You can set `force_row_wise=true` to remove the overhead.\n",
            "And if memory is not enough, you can set `force_col_wise=true`.\n",
            "[LightGBM] [Info] Total Bins 11948\n",
            "[LightGBM] [Info] Number of data points in the train set: 1539783, number of used features: 47\n",
            "[LightGBM] [Info] Start training from score 0.027716\n",
            "Training until validation scores don't improve for 20 rounds\n",
            "[10]\tvalid_0's rmse: 0.187131\tvalid_0's l2: 0.0350179\n",
            "[20]\tvalid_0's rmse: 0.189286\tvalid_0's l2: 0.035829\n",
            "Early stopping, best iteration is:\n",
            "[1]\tvalid_0's rmse: 0.180915\tvalid_0's l2: 0.0327302\n"
          ]
        }
      ],
      "source": [
        "model_lightgbm = lightgbm.LGBMRegressor(n_estimators = 1_000,\n",
        "                                verbose = 1,\n",
        "                                random_state = 42\n",
        "                                ).fit(train[l_features], Y_train,\n",
        "                                    categorical_feature = ['Ticker'],\n",
        "                                    eval_set=[(valid[l_features], Y_valid)],\n",
        "                                    eval_metric = 'rmse',\n",
        "                                    callbacks=[lightgbm.callback.early_stopping(20), lightgbm.callback.log_evaluation(10)]\n",
        "                                    )\n",
        "\n",
        "valid['pred_lightgbm'] = model_lightgbm.predict(valid[l_features])\n",
        "valid['error_lightgbm'] = valid['pred_lightgbm'] - Y_valid"
      ]
    },
    {
      "cell_type": "markdown",
      "source": [
        "## Catboost Train and Predict on Valid data"
      ],
      "metadata": {
        "id": "wB0trH3DO6Xl"
      }
    },
    {
      "cell_type": "code",
      "execution_count": 8,
      "metadata": {
        "id": "bU7TC5c0K0HS",
        "colab": {
          "base_uri": "https://localhost:8080/"
        },
        "outputId": "becd258d-0610-4f72-bc1b-b98f46d15c28"
      },
      "outputs": [
        {
          "output_type": "stream",
          "name": "stdout",
          "text": [
            "Learning rate set to 0.161186\n",
            "0:\tlearn: 0.1523480\ttest: 0.1787113\tbest: 0.1787113 (0)\ttotal: 1.45s\tremaining: 24m 10s\n",
            "10:\tlearn: 0.1392399\ttest: 0.1816097\tbest: 0.1786105 (1)\ttotal: 11.4s\tremaining: 17m 6s\n",
            "20:\tlearn: 0.1340588\ttest: 0.1829651\tbest: 0.1786105 (1)\ttotal: 21.8s\tremaining: 16m 57s\n",
            "Stopped by overfitting detector  (20 iterations wait)\n",
            "\n",
            "bestTest = 0.1786104743\n",
            "bestIteration = 1\n",
            "\n",
            "Shrink model to first 2 iterations.\n"
          ]
        }
      ],
      "source": [
        "model_catboost = catboost.CatBoostRegressor(iterations = 1_000,\n",
        "                                   random_seed = 42\n",
        "                                   ).fit(train[l_features], Y_train,\n",
        "                                        cat_features = ['Ticker'],\n",
        "                                        eval_set=(valid[l_features], Y_valid),\n",
        "                                        early_stopping_rounds = 20,\n",
        "                                        verbose = 10\n",
        "                                   )\n",
        "\n",
        "\n",
        "valid['pred_catboost'] = model_catboost.predict(valid[l_features])\n",
        "valid['error_catboost'] = valid['pred_catboost'] - Y_valid"
      ]
    },
    {
      "cell_type": "markdown",
      "source": [
        "## Simple Ensemble witrh weighted mean"
      ],
      "metadata": {
        "id": "Z79MjcZbO8N1"
      }
    },
    {
      "cell_type": "code",
      "execution_count": 9,
      "metadata": {
        "id": "nW_QbTabKwjB",
        "colab": {
          "base_uri": "https://localhost:8080/"
        },
        "outputId": "4021093f-f1a1-43ff-b108-a13f76d55328"
      },
      "outputs": [
        {
          "output_type": "stream",
          "name": "stdout",
          "text": [
            "[1. 0.]\n"
          ]
        }
      ],
      "source": [
        "model_ensemble = sklearn.linear_model.LinearRegression(positive = True, fit_intercept = False)\n",
        "l_features_ensemble = ['pred_catboost', 'pred_lightgbm']\n",
        "model_ensemble.fit(valid[l_features_ensemble], Y_valid)\n",
        "weights_models = model_ensemble.coef_/model_ensemble.coef_.sum() ## Create <1 coefficients.\n",
        "\n",
        "valid['pred_ensemble'] = (weights_models * valid[l_features_ensemble]).sum(axis = 1)\n",
        "valid['error_ensemble'] = valid['pred_ensemble'] - Y_valid\n",
        "\n",
        "print(weights_models)"
      ]
    },
    {
      "cell_type": "markdown",
      "source": [
        "We will create a reference error, which is based ont the previous Quarter returns. <br>\n",
        "Similar estimates than what we used in the previous notebook."
      ],
      "metadata": {
        "id": "kyu9J4pxPFug"
      }
    },
    {
      "cell_type": "code",
      "execution_count": 10,
      "metadata": {
        "id": "jr1lg5VjKwjC"
      },
      "outputs": [],
      "source": [
        "valid['pred_reference'] = valid['Quarterly_Log_Return']\n",
        "valid['error_reference'] = valid['pred_reference'] - Y_valid"
      ]
    },
    {
      "cell_type": "markdown",
      "source": [
        "Calculate the RMSE (Root Mean Square Error) of the different models :"
      ],
      "metadata": {
        "id": "bfEhKK8lPe4k"
      }
    },
    {
      "cell_type": "code",
      "execution_count": 11,
      "metadata": {
        "id": "9Xy3biYTKwjD"
      },
      "outputs": [],
      "source": [
        "l_preds = ['pred_reference', 'pred_catboost', 'pred_lightgbm', 'pred_ensemble']\n",
        "l_erros = ['error_reference', 'error_catboost', 'error_lightgbm', 'error_ensemble']"
      ]
    },
    {
      "cell_type": "code",
      "execution_count": 12,
      "metadata": {
        "id": "NJrd3BaCNcLw",
        "colab": {
          "base_uri": "https://localhost:8080/"
        },
        "outputId": "7b63e73c-18f6-4c64-a389-c935b952c4a9"
      },
      "outputs": [
        {
          "output_type": "stream",
          "name": "stdout",
          "text": [
            "RMSE error_reference : 164.849\n",
            "RMSE error_catboost : 107.834\n",
            "RMSE error_lightgbm : 109.225\n",
            "RMSE error_ensemble : 107.834\n"
          ]
        }
      ],
      "source": [
        "for errors in l_erros :\n",
        "    RMSE = np.sqrt(np.sum((valid[errors]**2)))\n",
        "    print(f'RMSE {errors} : {RMSE:.3f}')"
      ]
    },
    {
      "cell_type": "markdown",
      "source": [
        "We can clearly observe that the RMSE is the minimum for the ensemble betwwen catboost and lgbm.\n",
        "\n",
        "The Ensemble model brings a very importante deacrease of the Error (will that be enough to generate improvement of the returns once we run the portfolio optimization strategies)."
      ],
      "metadata": {
        "id": "NFi2xY_7PmPb"
      }
    },
    {
      "cell_type": "code",
      "execution_count": 13,
      "metadata": {
        "id": "MFvlXL2lN266"
      },
      "outputs": [],
      "source": [
        "# ax = sns.scatterplot(valid.melt(id_vars = 'target', value_vars = l_preds).rename(columns ={'value' : 'prediction', 'variable' : 'model'}),\n",
        "#                      x = 'target', y = 'prediction', hue = 'model', sizes = 0.1)\n",
        "# sns.move_legend(ax, \"upper left\", bbox_to_anchor=(1, 1))\n",
        "# plt.show()"
      ]
    },
    {
      "cell_type": "markdown",
      "source": [],
      "metadata": {
        "id": "OxNM7Er0QEb-"
      }
    },
    {
      "cell_type": "code",
      "execution_count": 14,
      "metadata": {
        "id": "8b8aDWEmKwjE",
        "colab": {
          "base_uri": "https://localhost:8080/",
          "height": 449
        },
        "outputId": "6f2eee8b-b473-468f-9ed1-e6f4caf67824"
      },
      "outputs": [
        {
          "output_type": "display_data",
          "data": {
            "text/plain": [
              "<Figure size 640x480 with 1 Axes>"
            ],
            "image/png": "[encoded data removed]"
          },
          "metadata": {}
        }
      ],
      "source": [
        "ax = sns.kdeplot(data = valid.melt(id_vars = 'target', value_vars = l_erros).rename(columns ={'value' : 'error', 'variable' : 'model'}),\n",
        "                 x = 'error', hue = 'model')\n",
        "sns.move_legend(ax, \"upper left\", bbox_to_anchor=(1, 1))\n",
        "plt.show()"
      ]
    },
    {
      "cell_type": "markdown",
      "source": [
        "With the graph, we can observer that errors seems to have a mean around 0. <br>\n",
        "Except the reference model.\n",
        "\n",
        "Let calculate the acutual values for the mean and variance of the errors :"
      ],
      "metadata": {
        "id": "tUVi3BXOQOCj"
      }
    },
    {
      "cell_type": "code",
      "execution_count": 15,
      "metadata": {
        "id": "JmZd89yfKwjF",
        "colab": {
          "base_uri": "https://localhost:8080/",
          "height": 300
        },
        "outputId": "5f05d59b-c216-4df4-f67c-98aa677ccde7"
      },
      "outputs": [
        {
          "output_type": "execute_result",
          "data": {
            "text/plain": [
              "       error_lightgbm  error_catboost  error_ensemble  error_reference\n",
              "count   364500.000000   364500.000000   364500.000000    364500.000000\n",
              "mean        -0.016038       -0.010163       -0.010163        -0.004600\n",
              "std          0.180203        0.178321        0.178321         0.273008\n",
              "min         -1.767546       -1.790280       -1.790280        -3.864009\n",
              "25%         -0.111687       -0.104696       -0.104696        -0.128199\n",
              "50%         -0.026318       -0.021241       -0.021241         0.008358\n",
              "75%          0.063229        0.067562        0.067562         0.135203\n",
              "max          2.087122        2.087844        2.087844         2.319131"
            ],
            "text/html": [
              "\n",
              "  <div id=\"df-e9d7b1ab-a656-4ea1-a616-93bd0bb9fe79\" class=\"colab-df-container\">\n",
              "    <div>\n",
              "<style scoped>\n",
              "    .dataframe tbody tr th:only-of-type {\n",
              "        vertical-align: middle;\n",
              "    }\n",
              "\n",
              "    .dataframe tbody tr th {\n",
              "        vertical-align: top;\n",
              "    }\n",
              "\n",
              "    .dataframe thead th {\n",
              "        text-align: right;\n",
              "    }\n",
              "</style>\n",
              "<table border=\"1\" class=\"dataframe\">\n",
              "  <thead>\n",
              "    <tr style=\"text-align: right;\">\n",
              "      <th></th>\n",
              "      <th>error_lightgbm</th>\n",
              "      <th>error_catboost</th>\n",
              "      <th>error_ensemble</th>\n",
              "      <th>error_reference</th>\n",
              "    </tr>\n",
              "  </thead>\n",
              "  <tbody>\n",
              "    <tr>\n",
              "      <th>count</th>\n",
              "      <td>364500.000000</td>\n",
              "      <td>364500.000000</td>\n",
              "      <td>364500.000000</td>\n",
              "      <td>364500.000000</td>\n",
              "    </tr>\n",
              "    <tr>\n",
              "      <th>mean</th>\n",
              "      <td>-0.016038</td>\n",
              "      <td>-0.010163</td>\n",
              "      <td>-0.010163</td>\n",
              "      <td>-0.004600</td>\n",
              "    </tr>\n",
              "    <tr>\n",
              "      <th>std</th>\n",
              "      <td>0.180203</td>\n",
              "      <td>0.178321</td>\n",
              "      <td>0.178321</td>\n",
              "      <td>0.273008</td>\n",
              "    </tr>\n",
              "    <tr>\n",
              "      <th>min</th>\n",
              "      <td>-1.767546</td>\n",
              "      <td>-1.790280</td>\n",
              "      <td>-1.790280</td>\n",
              "      <td>-3.864009</td>\n",
              "    </tr>\n",
              "    <tr>\n",
              "      <th>25%</th>\n",
              "      <td>-0.111687</td>\n",
              "      <td>-0.104696</td>\n",
              "      <td>-0.104696</td>\n",
              "      <td>-0.128199</td>\n",
              "    </tr>\n",
              "    <tr>\n",
              "      <th>50%</th>\n",
              "      <td>-0.026318</td>\n",
              "      <td>-0.021241</td>\n",
              "      <td>-0.021241</td>\n",
              "      <td>0.008358</td>\n",
              "    </tr>\n",
              "    <tr>\n",
              "      <th>75%</th>\n",
              "      <td>0.063229</td>\n",
              "      <td>0.067562</td>\n",
              "      <td>0.067562</td>\n",
              "      <td>0.135203</td>\n",
              "    </tr>\n",
              "    <tr>\n",
              "      <th>max</th>\n",
              "      <td>2.087122</td>\n",
              "      <td>2.087844</td>\n",
              "      <td>2.087844</td>\n",
              "      <td>2.319131</td>\n",
              "    </tr>\n",
              "  </tbody>\n",
              "</table>\n",
              "</div>\n",
              "    <div class=\"colab-df-buttons\">\n",
              "\n",
              "  <div class=\"colab-df-container\">\n",
              "    <button class=\"colab-df-convert\" onclick=\"convertToInteractive('df-e9d7b1ab-a656-4ea1-a616-93bd0bb9fe79')\"\n",
              "            title=\"Convert this dataframe to an interactive table.\"\n",
              "            style=\"display:none;\">\n",
              "\n",
              "  <svg xmlns=\"http://www.w3.org/2000/svg\" height=\"24px\" viewBox=\"0 -960 960 960\">\n",
              "    <path d=\"M120-120v-720h720v720H120Zm60-500h600v-160H180v160Zm220 220h160v-160H400v160Zm0 220h160v-160H400v160ZM180-400h160v-160H180v160Zm440 0h160v-160H620v160ZM180-180h160v-160H180v160Zm440 0h160v-160H620v160Z\"/>\n",
              "  </svg>\n",
              "    </button>\n",
              "\n",
              "  <style>\n",
              "    .colab-df-container {\n",
              "      display:flex;\n",
              "      gap: 12px;\n",
              "    }\n",
              "\n",
              "    .colab-df-convert {\n",
              "      background-color: #E8F0FE;\n",
              "      border: none;\n",
              "      border-radius: 50%;\n",
              "      cursor: pointer;\n",
              "      display: none;\n",
              "      fill: #1967D2;\n",
              "      height: 32px;\n",
              "      padding: 0 0 0 0;\n",
              "      width: 32px;\n",
              "    }\n",
              "\n",
              "    .colab-df-convert:hover {\n",
              "      background-color: #E2EBFA;\n",
              "      box-shadow: 0px 1px 2px rgba(60, 64, 67, 0.3), 0px 1px 3px 1px rgba(60, 64, 67, 0.15);\n",
              "      fill: #174EA6;\n",
              "    }\n",
              "\n",
              "    .colab-df-buttons div {\n",
              "      margin-bottom: 4px;\n",
              "    }\n",
              "\n",
              "    [theme=dark] .colab-df-convert {\n",
              "      background-color: #3B4455;\n",
              "      fill: #D2E3FC;\n",
              "    }\n",
              "\n",
              "    [theme=dark] .colab-df-convert:hover {\n",
              "      background-color: #434B5C;\n",
              "      box-shadow: 0px 1px 3px 1px rgba(0, 0, 0, 0.15);\n",
              "      filter: drop-shadow(0px 1px 2px rgba(0, 0, 0, 0.3));\n",
              "      fill: #FFFFFF;\n",
              "    }\n",
              "  </style>\n",
              "\n",
              "    <script>\n",
              "      const buttonEl =\n",
              "        document.querySelector('#df-e9d7b1ab-a656-4ea1-a616-93bd0bb9fe79 button.colab-df-convert');\n",
              "      buttonEl.style.display =\n",
              "        google.colab.kernel.accessAllowed ? 'block' : 'none';\n",
              "\n",
              "      async function convertToInteractive(key) {\n",
              "        const element = document.querySelector('#df-e9d7b1ab-a656-4ea1-a616-93bd0bb9fe79');\n",
              "        const dataTable =\n",
              "          await google.colab.kernel.invokeFunction('convertToInteractive',\n",
              "                                                    [key], {});\n",
              "        if (!dataTable) return;\n",
              "\n",
              "        const docLinkHtml = 'Like what you see? Visit the ' +\n",
              "          '<a target=\"_blank\" href=https://colab.research.google.com/notebooks/data_table.ipynb>data table notebook</a>'\n",
              "          + ' to learn more about interactive tables.';\n",
              "        element.innerHTML = '';\n",
              "        dataTable['output_type'] = 'display_data';\n",
              "        await google.colab.output.renderOutput(dataTable, element);\n",
              "        const docLink = document.createElement('div');\n",
              "        docLink.innerHTML = docLinkHtml;\n",
              "        element.appendChild(docLink);\n",
              "      }\n",
              "    </script>\n",
              "  </div>\n",
              "\n",
              "\n",
              "<div id=\"df-c7332cb0-c949-4c64-a0ec-f1e51837da7e\">\n",
              "  <button class=\"colab-df-quickchart\" onclick=\"quickchart('df-c7332cb0-c949-4c64-a0ec-f1e51837da7e')\"\n",
              "            title=\"Suggest charts\"\n",
              "            style=\"display:none;\">\n",
              "\n",
              "<svg xmlns=\"http://www.w3.org/2000/svg\" height=\"24px\"viewBox=\"0 0 24 24\"\n",
              "     width=\"24px\">\n",
              "    <g>\n",
              "        <path d=\"M19 3H5c-1.1 0-2 .9-2 2v14c0 1.1.9 2 2 2h14c1.1 0 2-.9 2-2V5c0-1.1-.9-2-2-2zM9 17H7v-7h2v7zm4 0h-2V7h2v10zm4 0h-2v-4h2v4z\"/>\n",
              "    </g>\n",
              "</svg>\n",
              "  </button>\n",
              "\n",
              "<style>\n",
              "  .colab-df-quickchart {\n",
              "      --bg-color: #E8F0FE;\n",
              "      --fill-color: #1967D2;\n",
              "      --hover-bg-color: #E2EBFA;\n",
              "      --hover-fill-color: #174EA6;\n",
              "      --disabled-fill-color: #AAA;\n",
              "      --disabled-bg-color: #DDD;\n",
              "  }\n",
              "\n",
              "  [theme=dark] .colab-df-quickchart {\n",
              "      --bg-color: #3B4455;\n",
              "      --fill-color: #D2E3FC;\n",
              "      --hover-bg-color: #434B5C;\n",
              "      --hover-fill-color: #FFFFFF;\n",
              "      --disabled-bg-color: #3B4455;\n",
              "      --disabled-fill-color: #666;\n",
              "  }\n",
              "\n",
              "  .colab-df-quickchart {\n",
              "    background-color: var(--bg-color);\n",
              "    border: none;\n",
              "    border-radius: 50%;\n",
              "    cursor: pointer;\n",
              "    display: none;\n",
              "    fill: var(--fill-color);\n",
              "    height: 32px;\n",
              "    padding: 0;\n",
              "    width: 32px;\n",
              "  }\n",
              "\n",
              "  .colab-df-quickchart:hover {\n",
              "    background-color: var(--hover-bg-color);\n",
              "    box-shadow: 0 1px 2px rgba(60, 64, 67, 0.3), 0 1px 3px 1px rgba(60, 64, 67, 0.15);\n",
              "    fill: var(--button-hover-fill-color);\n",
              "  }\n",
              "\n",
              "  .colab-df-quickchart-complete:disabled,\n",
              "  .colab-df-quickchart-complete:disabled:hover {\n",
              "    background-color: var(--disabled-bg-color);\n",
              "    fill: var(--disabled-fill-color);\n",
              "    box-shadow: none;\n",
              "  }\n",
              "\n",
              "  .colab-df-spinner {\n",
              "    border: 2px solid var(--fill-color);\n",
              "    border-color: transparent;\n",
              "    border-bottom-color: var(--fill-color);\n",
              "    animation:\n",
              "      spin 1s steps(1) infinite;\n",
              "  }\n",
              "\n",
              "  @keyframes spin {\n",
              "    0% {\n",
              "      border-color: transparent;\n",
              "      border-bottom-color: var(--fill-color);\n",
              "      border-left-color: var(--fill-color);\n",
              "    }\n",
              "    20% {\n",
              "      border-color: transparent;\n",
              "      border-left-color: var(--fill-color);\n",
              "      border-top-color: var(--fill-color);\n",
              "    }\n",
              "    30% {\n",
              "      border-color: transparent;\n",
              "      border-left-color: var(--fill-color);\n",
              "      border-top-color: var(--fill-color);\n",
              "      border-right-color: var(--fill-color);\n",
              "    }\n",
              "    40% {\n",
              "      border-color: transparent;\n",
              "      border-right-color: var(--fill-color);\n",
              "      border-top-color: var(--fill-color);\n",
              "    }\n",
              "    60% {\n",
              "      border-color: transparent;\n",
              "      border-right-color: var(--fill-color);\n",
              "    }\n",
              "    80% {\n",
              "      border-color: transparent;\n",
              "      border-right-color: var(--fill-color);\n",
              "      border-bottom-color: var(--fill-color);\n",
              "    }\n",
              "    90% {\n",
              "      border-color: transparent;\n",
              "      border-bottom-color: var(--fill-color);\n",
              "    }\n",
              "  }\n",
              "</style>\n",
              "\n",
              "  <script>\n",
              "    async function quickchart(key) {\n",
              "      const quickchartButtonEl =\n",
              "        document.querySelector('#' + key + ' button');\n",
              "      quickchartButtonEl.disabled = true;  // To prevent multiple clicks.\n",
              "      quickchartButtonEl.classList.add('colab-df-spinner');\n",
              "      try {\n",
              "        const charts = await google.colab.kernel.invokeFunction(\n",
              "            'suggestCharts', [key], {});\n",
              "      } catch (error) {\n",
              "        console.error('Error during call to suggestCharts:', error);\n",
              "      }\n",
              "      quickchartButtonEl.classList.remove('colab-df-spinner');\n",
              "      quickchartButtonEl.classList.add('colab-df-quickchart-complete');\n",
              "    }\n",
              "    (() => {\n",
              "      let quickchartButtonEl =\n",
              "        document.querySelector('#df-c7332cb0-c949-4c64-a0ec-f1e51837da7e button');\n",
              "      quickchartButtonEl.style.display =\n",
              "        google.colab.kernel.accessAllowed ? 'block' : 'none';\n",
              "    })();\n",
              "  </script>\n",
              "</div>\n",
              "    </div>\n",
              "  </div>\n"
            ],
            "application/vnd.google.colaboratory.intrinsic+json": {
              "type": "dataframe",
              "summary": "{\n  \"name\": \"valid[l_cols_ensemble]\",\n  \"rows\": 8,\n  \"fields\": [\n    {\n      \"column\": \"error_lightgbm\",\n      \"properties\": {\n        \"dtype\": \"number\",\n        \"std\": 128870.19021965822,\n        \"min\": -1.767545829521002,\n        \"max\": 364500.0,\n        \"num_unique_values\": 8,\n        \"samples\": [\n          -0.016038423028824293,\n          -0.02631845236654276,\n          364500.0\n        ],\n        \"semantic_type\": \"\",\n        \"description\": \"\"\n      }\n    },\n    {\n      \"column\": \"error_catboost\",\n      \"properties\": {\n        \"dtype\": \"number\",\n        \"std\": 128870.19030131401,\n        \"min\": -1.7902799243836554,\n        \"max\": 364500.0,\n        \"num_unique_values\": 8,\n        \"samples\": [\n          -0.010163051197900444,\n          -0.021240730426285694,\n          364500.0\n        ],\n        \"semantic_type\": \"\",\n        \"description\": \"\"\n      }\n    },\n    {\n      \"column\": \"error_ensemble\",\n      \"properties\": {\n        \"dtype\": \"number\",\n        \"std\": 128870.19030131401,\n        \"min\": -1.7902799243836554,\n        \"max\": 364500.0,\n        \"num_unique_values\": 8,\n        \"samples\": [\n          -0.010163051197900444,\n          -0.021240730426285694,\n          364500.0\n        ],\n        \"semantic_type\": \"\",\n        \"description\": \"\"\n      }\n    },\n    {\n      \"column\": \"error_reference\",\n      \"properties\": {\n        \"dtype\": \"number\",\n        \"std\": 128870.27457801804,\n        \"min\": -3.8640094548248314,\n        \"max\": 364500.0,\n        \"num_unique_values\": 8,\n        \"samples\": [\n          -0.0046000942125414565,\n          0.008358378980563679,\n          364500.0\n        ],\n        \"semantic_type\": \"\",\n        \"description\": \"\"\n      }\n    }\n  ]\n}"
            }
          },
          "metadata": {},
          "execution_count": 15
        }
      ],
      "source": [
        "l_cols_ensemble = [col for col in valid if 'error_' in col]\n",
        "\n",
        "valid[l_cols_ensemble].describe()"
      ]
    },
    {
      "cell_type": "markdown",
      "source": [
        "Errors means are not exactly at 0, but slightly negative. <br>\n",
        "We can interpret that as negative skewed dataset can pull the model to a slightly negative error mean.\n",
        "The negative skewed dataset (log returns), could probably be explains by high volatility days, creating negative logs returns outliers.\n",
        " <br> <br>\n",
        "We could in future model try to modify the log return distribution to improve our model prediction and reduce error mean.\n"
      ],
      "metadata": {
        "id": "bymCzuCuSMev"
      }
    },
    {
      "cell_type": "markdown",
      "source": [
        "## Test Prediction"
      ],
      "metadata": {
        "id": "xTQA7OuyQb_i"
      }
    },
    {
      "cell_type": "markdown",
      "source": [
        "Use the 2 models, plus the ensemble model to predict our next quarter returns."
      ],
      "metadata": {
        "id": "xO0YvW4UTqiv"
      }
    },
    {
      "cell_type": "code",
      "execution_count": 16,
      "metadata": {
        "id": "F1z4m78sKwjF"
      },
      "outputs": [],
      "source": [
        "test['pred_lightgbm'] = model_lightgbm.predict(test[l_features])\n",
        "test['pred_catboost'] = model_catboost.predict(test[l_features])\n",
        "test['pred_ensemble'] = model_ensemble.predict(test[l_features_ensemble])"
      ]
    },
    {
      "cell_type": "markdown",
      "source": [
        "Decode the Ticker back to Symbols."
      ],
      "metadata": {
        "id": "uSgwM1fGToig"
      }
    },
    {
      "cell_type": "code",
      "execution_count": 17,
      "metadata": {
        "id": "dgxF-sYqKwjF"
      },
      "outputs": [],
      "source": [
        "test['Ticker'] = test['Ticker'].map(LabelDecoder)\n",
        "valid['Ticker'] = valid['Ticker'].map(LabelDecoder)"
      ]
    },
    {
      "cell_type": "markdown",
      "metadata": {
        "id": "RmgG1lgMKwjG"
      },
      "source": [
        "Calculate Covariance Matrice on the valid dataset"
      ]
    },
    {
      "cell_type": "code",
      "execution_count": 18,
      "metadata": {
        "id": "_cm10VCDKwjG",
        "colab": {
          "base_uri": "https://localhost:8080/",
          "height": 161
        },
        "outputId": "63109f62-b0a0-43d7-90e1-56c35d5480ca"
      },
      "outputs": [
        {
          "output_type": "execute_result",
          "data": {
            "text/plain": [
              "Ticker         A      AAPL      ABBV      ABNB       ABT      ACGL       ACN  \\\n",
              "Ticker                                                                         \n",
              "A       0.012336  0.009704  0.007716 -0.000479  0.002997  0.009529  0.007771   \n",
              "\n",
              "Ticker      ADBE       ADI       ADM  ...      WTW        WY      WYNN  \\\n",
              "Ticker                                ...                                \n",
              "A       0.006855  0.009691  0.008913  ...  0.00279  0.014454  0.017831   \n",
              "\n",
              "Ticker       XEL       XOM       XYL      YUM       ZBH      ZBRA       ZTS  \n",
              "Ticker                                                                       \n",
              "A       0.000354  0.012256  0.008299  0.00619  0.010424  0.014303  0.003965  \n",
              "\n",
              "[1 rows x 493 columns]"
            ],
            "text/html": [
              "\n",
              "  <div id=\"df-e4e0ccdb-2b44-427c-bac8-ece8a49286c4\" class=\"colab-df-container\">\n",
              "    <div>\n",
              "<style scoped>\n",
              "    .dataframe tbody tr th:only-of-type {\n",
              "        vertical-align: middle;\n",
              "    }\n",
              "\n",
              "    .dataframe tbody tr th {\n",
              "        vertical-align: top;\n",
              "    }\n",
              "\n",
              "    .dataframe thead th {\n",
              "        text-align: right;\n",
              "    }\n",
              "</style>\n",
              "<table border=\"1\" class=\"dataframe\">\n",
              "  <thead>\n",
              "    <tr style=\"text-align: right;\">\n",
              "      <th>Ticker</th>\n",
              "      <th>A</th>\n",
              "      <th>AAPL</th>\n",
              "      <th>ABBV</th>\n",
              "      <th>ABNB</th>\n",
              "      <th>ABT</th>\n",
              "      <th>ACGL</th>\n",
              "      <th>ACN</th>\n",
              "      <th>ADBE</th>\n",
              "      <th>ADI</th>\n",
              "      <th>ADM</th>\n",
              "      <th>...</th>\n",
              "      <th>WTW</th>\n",
              "      <th>WY</th>\n",
              "      <th>WYNN</th>\n",
              "      <th>XEL</th>\n",
              "      <th>XOM</th>\n",
              "      <th>XYL</th>\n",
              "      <th>YUM</th>\n",
              "      <th>ZBH</th>\n",
              "      <th>ZBRA</th>\n",
              "      <th>ZTS</th>\n",
              "    </tr>\n",
              "    <tr>\n",
              "      <th>Ticker</th>\n",
              "      <th></th>\n",
              "      <th></th>\n",
              "      <th></th>\n",
              "      <th></th>\n",
              "      <th></th>\n",
              "      <th></th>\n",
              "      <th></th>\n",
              "      <th></th>\n",
              "      <th></th>\n",
              "      <th></th>\n",
              "      <th></th>\n",
              "      <th></th>\n",
              "      <th></th>\n",
              "      <th></th>\n",
              "      <th></th>\n",
              "      <th></th>\n",
              "      <th></th>\n",
              "      <th></th>\n",
              "      <th></th>\n",
              "      <th></th>\n",
              "      <th></th>\n",
              "    </tr>\n",
              "  </thead>\n",
              "  <tbody>\n",
              "    <tr>\n",
              "      <th>A</th>\n",
              "      <td>0.012336</td>\n",
              "      <td>0.009704</td>\n",
              "      <td>0.007716</td>\n",
              "      <td>-0.000479</td>\n",
              "      <td>0.002997</td>\n",
              "      <td>0.009529</td>\n",
              "      <td>0.007771</td>\n",
              "      <td>0.006855</td>\n",
              "      <td>0.009691</td>\n",
              "      <td>0.008913</td>\n",
              "      <td>...</td>\n",
              "      <td>0.00279</td>\n",
              "      <td>0.014454</td>\n",
              "      <td>0.017831</td>\n",
              "      <td>0.000354</td>\n",
              "      <td>0.012256</td>\n",
              "      <td>0.008299</td>\n",
              "      <td>0.00619</td>\n",
              "      <td>0.010424</td>\n",
              "      <td>0.014303</td>\n",
              "      <td>0.003965</td>\n",
              "    </tr>\n",
              "  </tbody>\n",
              "</table>\n",
              "<p>1 rows × 493 columns</p>\n",
              "</div>\n",
              "    <div class=\"colab-df-buttons\">\n",
              "\n",
              "  <div class=\"colab-df-container\">\n",
              "    <button class=\"colab-df-convert\" onclick=\"convertToInteractive('df-e4e0ccdb-2b44-427c-bac8-ece8a49286c4')\"\n",
              "            title=\"Convert this dataframe to an interactive table.\"\n",
              "            style=\"display:none;\">\n",
              "\n",
              "  <svg xmlns=\"http://www.w3.org/2000/svg\" height=\"24px\" viewBox=\"0 -960 960 960\">\n",
              "    <path d=\"M120-120v-720h720v720H120Zm60-500h600v-160H180v160Zm220 220h160v-160H400v160Zm0 220h160v-160H400v160ZM180-400h160v-160H180v160Zm440 0h160v-160H620v160ZM180-180h160v-160H180v160Zm440 0h160v-160H620v160Z\"/>\n",
              "  </svg>\n",
              "    </button>\n",
              "\n",
              "  <style>\n",
              "    .colab-df-container {\n",
              "      display:flex;\n",
              "      gap: 12px;\n",
              "    }\n",
              "\n",
              "    .colab-df-convert {\n",
              "      background-color: #E8F0FE;\n",
              "      border: none;\n",
              "      border-radius: 50%;\n",
              "      cursor: pointer;\n",
              "      display: none;\n",
              "      fill: #1967D2;\n",
              "      height: 32px;\n",
              "      padding: 0 0 0 0;\n",
              "      width: 32px;\n",
              "    }\n",
              "\n",
              "    .colab-df-convert:hover {\n",
              "      background-color: #E2EBFA;\n",
              "      box-shadow: 0px 1px 2px rgba(60, 64, 67, 0.3), 0px 1px 3px 1px rgba(60, 64, 67, 0.15);\n",
              "      fill: #174EA6;\n",
              "    }\n",
              "\n",
              "    .colab-df-buttons div {\n",
              "      margin-bottom: 4px;\n",
              "    }\n",
              "\n",
              "    [theme=dark] .colab-df-convert {\n",
              "      background-color: #3B4455;\n",
              "      fill: #D2E3FC;\n",
              "    }\n",
              "\n",
              "    [theme=dark] .colab-df-convert:hover {\n",
              "      background-color: #434B5C;\n",
              "      box-shadow: 0px 1px 3px 1px rgba(0, 0, 0, 0.15);\n",
              "      filter: drop-shadow(0px 1px 2px rgba(0, 0, 0, 0.3));\n",
              "      fill: #FFFFFF;\n",
              "    }\n",
              "  </style>\n",
              "\n",
              "    <script>\n",
              "      const buttonEl =\n",
              "        document.querySelector('#df-e4e0ccdb-2b44-427c-bac8-ece8a49286c4 button.colab-df-convert');\n",
              "      buttonEl.style.display =\n",
              "        google.colab.kernel.accessAllowed ? 'block' : 'none';\n",
              "\n",
              "      async function convertToInteractive(key) {\n",
              "        const element = document.querySelector('#df-e4e0ccdb-2b44-427c-bac8-ece8a49286c4');\n",
              "        const dataTable =\n",
              "          await google.colab.kernel.invokeFunction('convertToInteractive',\n",
              "                                                    [key], {});\n",
              "        if (!dataTable) return;\n",
              "\n",
              "        const docLinkHtml = 'Like what you see? Visit the ' +\n",
              "          '<a target=\"_blank\" href=https://colab.research.google.com/notebooks/data_table.ipynb>data table notebook</a>'\n",
              "          + ' to learn more about interactive tables.';\n",
              "        element.innerHTML = '';\n",
              "        dataTable['output_type'] = 'display_data';\n",
              "        await google.colab.output.renderOutput(dataTable, element);\n",
              "        const docLink = document.createElement('div');\n",
              "        docLink.innerHTML = docLinkHtml;\n",
              "        element.appendChild(docLink);\n",
              "      }\n",
              "    </script>\n",
              "  </div>\n",
              "\n",
              "    </div>\n",
              "  </div>\n"
            ],
            "application/vnd.google.colaboratory.intrinsic+json": {
              "type": "dataframe",
              "variable_name": "matrix_covariance"
            }
          },
          "metadata": {},
          "execution_count": 18
        }
      ],
      "source": [
        "def calculate_shrink_cov_matrix (df) :\n",
        "    masked_arr = np.ma.array(df, mask=np.isnan(df))\n",
        "    cov_numpy = np.ma.cov(masked_arr, rowvar=False, allow_masked=True, ddof=1).data\n",
        "    n_samples, n_features = df.shape\n",
        "    alpha = np.mean(cov_numpy**2)\n",
        "    mu = np.trace(cov_numpy) / n_features\n",
        "    mu_squared = mu**2\n",
        "    num = alpha + mu_squared\n",
        "    den = (n_samples + 1) * (alpha - mu_squared / n_features)\n",
        "    shrinkage = 1.0 if den == 0 else min(num / den, 1.0)\n",
        "    shrunk_cov = (1.0 - shrinkage) * cov_numpy\n",
        "    shrunk_cov.flat[:: n_features + 1] += shrinkage * mu\n",
        "    return shrunk_cov\n",
        "\n",
        "# Creation of the log return Matrix\n",
        "pivot_returns_valid = valid.pivot_table(values='Quarterly_Log_Return', columns='Ticker', index = 'Date')\\\n",
        "                         .fillna(0)\n",
        "\n",
        "matrix_covariance = calculate_shrink_cov_matrix(pivot_returns_valid)\n",
        "matrix_covariance = pd.DataFrame(matrix_covariance, columns = pivot_returns_valid.columns, index = pivot_returns_valid.columns)\n",
        "matrix_covariance.head(1)"
      ]
    },
    {
      "cell_type": "markdown",
      "source": [
        "Declaration of the functions to optimize the portfolio (see previous [notebooks](https://medium.com/@alexandre.durand/portfolio-optimisation-on-s-p-500-stocks-46f03732b030) for more explanations).\n"
      ],
      "metadata": {
        "id": "okboyOiwUk9i"
      }
    },
    {
      "cell_type": "code",
      "execution_count": 19,
      "metadata": {
        "id": "1Mssz9W1KwjG"
      },
      "outputs": [],
      "source": [
        "def calculate_portfolio_variance(weights, cov_matrix):\n",
        "    return np.dot(weights.T, np.dot(cov_matrix, weights))\n",
        "\n",
        "def calculate_portfolio_returns(weights, returns):\n",
        "    return np.dot(weights, returns)\n",
        "\n",
        "def variance_objective(weights, cov_matrix):\n",
        "    portfolio_variance = np.squeeze(calculate_portfolio_variance(weights, cov_matrix))\n",
        "    return portfolio_variance\n",
        "\n",
        "### Using Negative Markowitz Objective, as we will use scipy.optimize.minimize\n",
        "def neg_markowitz_objective(weights, returns, cov_matrix, gamma = 0.2):\n",
        "    portfolio_returns = np.squeeze(calculate_portfolio_returns(weights, returns))\n",
        "    portfolio_variance = np.squeeze(calculate_portfolio_variance(weights, cov_matrix))\n",
        "    return gamma * portfolio_variance - portfolio_returns\n",
        "\n",
        "### Using Negative Sharpe Ratio, as we will use scipy.optimize.minimize\n",
        "def neg_sharpe_ratio_objective(weights, returns, cov_matrix, risk_free_rate = 0.03):\n",
        "    portfolio_returns = np.squeeze(calculate_portfolio_returns(weights, returns))\n",
        "    portfolio_variance = np.squeeze(calculate_portfolio_variance(weights, cov_matrix))\n",
        "    return -((portfolio_returns - risk_free_rate)/np.sqrt(portfolio_variance))\n",
        "\n",
        "### Generic Optimize weights functions\n",
        "def optimize_weights(log_returns, covariance_matrix, fun=neg_markowitz_objective, x0 = None):\n",
        "    number_of_tickers = len(log_returns)\n",
        "    if x0 == None : x0 = np.array([1/number_of_tickers for _ in range(number_of_tickers)])\n",
        "    if fun == calculate_portfolio_variance : args = (covariance_matrix)\n",
        "    else : args = (log_returns, covariance_matrix)\n",
        "    result = sp.optimize.minimize(fun = fun,\n",
        "                                args = args,\n",
        "                                x0 = x0,\n",
        "                                method = 'SLSQP',\n",
        "                                bounds = tuple((0, 0.3) for _ in range(number_of_tickers)),## we don't want to have more than 30% of the portfolio on 1 asset\n",
        "                                constraints = ({'type': 'eq', 'fun': lambda weights: np.sum(weights) - 1})\n",
        "                                )\n",
        "    return result.x"
      ]
    },
    {
      "cell_type": "markdown",
      "source": [
        "## Backtest loop"
      ],
      "metadata": {
        "id": "jGLLVfSBUxjc"
      }
    },
    {
      "cell_type": "code",
      "execution_count": 23,
      "metadata": {
        "id": "4OU3CyCgcswi",
        "colab": {
          "base_uri": "https://localhost:8080/"
        },
        "outputId": "23f38ab4-5a3e-4529-8ec0-94704b59ca6c"
      },
      "outputs": [
        {
          "output_type": "stream",
          "name": "stdout",
          "text": [
            "pred_catboost\n"
          ]
        },
        {
          "output_type": "stream",
          "name": "stderr",
          "text": [
            "100%|██████████| 12/12 [14:06<00:00, 70.51s/it]\n"
          ]
        },
        {
          "output_type": "stream",
          "name": "stdout",
          "text": [
            "pred_lightgbm\n"
          ]
        },
        {
          "output_type": "stream",
          "name": "stderr",
          "text": [
            "100%|██████████| 12/12 [14:05<00:00, 70.43s/it]\n"
          ]
        },
        {
          "output_type": "stream",
          "name": "stdout",
          "text": [
            "pred_ensemble\n"
          ]
        },
        {
          "output_type": "stream",
          "name": "stderr",
          "text": [
            "100%|██████████| 12/12 [14:28<00:00, 72.38s/it]\n"
          ]
        }
      ],
      "source": [
        "results = {}\n",
        "for preds in ['pred_catboost', 'pred_lightgbm', 'pred_ensemble'] : #adding loop for each prediction\n",
        "    print(preds)\n",
        "    for date in tqdm.tqdm(test.Date.unique()):\n",
        "        results[date] = {}\n",
        "        tickers = test[test.Date == date].Ticker.values\n",
        "        tickers_returns_future = test[test.Date == date].target # This Quarter returns\n",
        "        tickers_returns_pred = test[test.Date == date][preds]\n",
        "\n",
        "        # Create Masks to keep only : Prediction > 0\n",
        "        mask_preds_positives = tickers_returns_pred.values > 0\n",
        "        # Create Masks to keep only : Tickers in the covariance Matrice ( calculated on Valid Data)\n",
        "        mask_tickers_in_covariance_matrice = [True if col in matrix_covariance.columns else False for col in tickers]\n",
        "        mask = mask_preds_positives & mask_tickers_in_covariance_matrice\n",
        "\n",
        "        # Filtered Tickers, predictions, and real returns\n",
        "        tickers = tickers[mask]\n",
        "        tickers_returns_future = tickers_returns_future[mask]\n",
        "        tickers_returns_pred = tickers_returns_pred[mask]\n",
        "        matrix_covariance_filtered = matrix_covariance.loc[tickers, tickers]\n",
        "\n",
        "        # Creating default weights for 3 types of portfolio potimized\n",
        "        weights_sharpe = optimize_weights(tickers_returns_pred, matrix_covariance_filtered, fun = neg_sharpe_ratio_objective)\n",
        "        results[date][f'returns_sharpe_{preds}'] = (weights_sharpe * tickers_returns_future).sum()\n",
        "\n",
        "        weights_min_variance= optimize_weights(tickers_returns_pred, matrix_covariance_filtered, fun = calculate_portfolio_variance)\n",
        "        results[date][f'returns_min_variance_{preds}'] =  (weights_min_variance * tickers_returns_future).sum()\n",
        "\n",
        "        weights_mean_min_variance = optimize_weights(tickers_returns_pred, matrix_covariance_filtered, fun = neg_markowitz_objective)\n",
        "        results[date][f'returns_mean_min_variance_{preds}'] =  (weights_mean_min_variance * tickers_returns_future).sum()"
      ]
    },
    {
      "cell_type": "markdown",
      "source": [
        "## Results"
      ],
      "metadata": {
        "id": "PpGXyBY1Uyze"
      }
    },
    {
      "cell_type": "code",
      "execution_count": 24,
      "metadata": {
        "id": "gFWxkx36KwjJ"
      },
      "outputs": [],
      "source": [
        "results = pd.DataFrame(results).T"
      ]
    },
    {
      "cell_type": "code",
      "execution_count": 25,
      "metadata": {
        "id": "c7RdSILzKwjJ",
        "colab": {
          "base_uri": "https://localhost:8080/",
          "height": 539
        },
        "outputId": "b3116149-76bd-4633-90e1-9a7ae9f35a75"
      },
      "outputs": [
        {
          "output_type": "stream",
          "name": "stderr",
          "text": [
            "<ipython-input-25-4a6bc80dca57>:6: UserWarning: set_ticklabels() should only be used with a fixed number of ticks, i.e. after set_ticks() or using a FixedLocator.\n",
            "  ax.set_xticklabels(ax.get_xticklabels(), rotation=45)\n"
          ]
        },
        {
          "output_type": "display_data",
          "data": {
            "text/plain": [
              "<Figure size 640x480 with 1 Axes>"
            ],
            "image/png": "[encoded data removed]"
          },
          "metadata": {}
        }
      ],
      "source": [
        "l_returns_columns = [x for x in results.columns if 'returns_' in x[:9]]\n",
        "\n",
        "fig = plt.figure()\n",
        "ax = sns.scatterplot(results[l_returns_columns], sizes = 3)\n",
        "sns.move_legend(ax, \"upper left\", bbox_to_anchor=(1, 1))\n",
        "ax.set_xticklabels(ax.get_xticklabels(), rotation=45)\n",
        "plt.show()"
      ]
    },
    {
      "cell_type": "code",
      "execution_count": 26,
      "metadata": {
        "id": "t8GkF5HWKwjJ",
        "colab": {
          "base_uri": "https://localhost:8080/",
          "height": 539
        },
        "outputId": "2d93b237-a7b5-4e11-85bb-8a8aa8b2eebb"
      },
      "outputs": [
        {
          "output_type": "stream",
          "name": "stderr",
          "text": [
            "<ipython-input-26-7d718b31462b>:7: UserWarning: set_ticklabels() should only be used with a fixed number of ticks, i.e. after set_ticks() or using a FixedLocator.\n",
            "  ax.set_xticklabels(ax.get_xticklabels(), rotation=45)\n"
          ]
        },
        {
          "output_type": "display_data",
          "data": {
            "text/plain": [
              "<Figure size 640x480 with 1 Axes>"
            ],
            "image/png": "[encoded data removed]"
          },
          "metadata": {}
        }
      ],
      "source": [
        "l_returns_columns_cumsum = [x + '_cumsum' for x in l_returns_columns]\n",
        "results[l_returns_columns_cumsum] = results[l_returns_columns].cumsum()\n",
        "\n",
        "fig = plt.figure() #figsize = (20, 15))\n",
        "ax = sns.lineplot(results[l_returns_columns_cumsum], sizes = 3)\n",
        "sns.move_legend(ax, \"upper left\", bbox_to_anchor=(1, 1))\n",
        "ax.set_xticklabels(ax.get_xticklabels(), rotation=45)\n",
        "plt.show()"
      ]
    },
    {
      "cell_type": "code",
      "source": [
        "results[l_returns_columns].sum()"
      ],
      "metadata": {
        "id": "Pmm5PtgdRc8K",
        "outputId": "027bec55-676e-4d89-a4dd-11c1a6ae25ab",
        "colab": {
          "base_uri": "https://localhost:8080/",
          "height": 178
        }
      },
      "execution_count": 27,
      "outputs": [
        {
          "output_type": "execute_result",
          "data": {
            "text/plain": [
              "returns_sharpe_pred_ensemble               0.070448\n",
              "returns_min_variance_pred_ensemble         0.102337\n",
              "returns_mean_min_variance_pred_ensemble   -0.031608\n",
              "dtype: float64"
            ],
            "text/html": [
              "<div>\n",
              "<style scoped>\n",
              "    .dataframe tbody tr th:only-of-type {\n",
              "        vertical-align: middle;\n",
              "    }\n",
              "\n",
              "    .dataframe tbody tr th {\n",
              "        vertical-align: top;\n",
              "    }\n",
              "\n",
              "    .dataframe thead th {\n",
              "        text-align: right;\n",
              "    }\n",
              "</style>\n",
              "<table border=\"1\" class=\"dataframe\">\n",
              "  <thead>\n",
              "    <tr style=\"text-align: right;\">\n",
              "      <th></th>\n",
              "      <th>0</th>\n",
              "    </tr>\n",
              "  </thead>\n",
              "  <tbody>\n",
              "    <tr>\n",
              "      <th>returns_sharpe_pred_ensemble</th>\n",
              "      <td>0.070448</td>\n",
              "    </tr>\n",
              "    <tr>\n",
              "      <th>returns_min_variance_pred_ensemble</th>\n",
              "      <td>0.102337</td>\n",
              "    </tr>\n",
              "    <tr>\n",
              "      <th>returns_mean_min_variance_pred_ensemble</th>\n",
              "      <td>-0.031608</td>\n",
              "    </tr>\n",
              "  </tbody>\n",
              "</table>\n",
              "</div><br><label><b>dtype:</b> float64</label>"
            ]
          },
          "metadata": {},
          "execution_count": 27
        }
      ]
    }
  ],
  "metadata": {
    "colab": {
      "provenance": [],
      "toc_visible": true,
      "include_colab_link": true
    },
    "kernelspec": {
      "display_name": "Python 3",
      "name": "python3"
    },
    "language_info": {
      "codemirror_mode": {
        "name": "ipython",
        "version": 3
      },
      "file_extension": ".py",
      "mimetype": "text/x-python",
      "name": "python",
      "nbconvert_exporter": "python",
      "pygments_lexer": "ipython3",
      "version": "3.12.4"
    }
  },
  "nbformat": 4,
  "nbformat_minor": 0
}